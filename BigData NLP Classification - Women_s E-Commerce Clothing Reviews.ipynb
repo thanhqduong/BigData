{
 "cells": [
  {
   "cell_type": "code",
   "execution_count": 1,
   "metadata": {},
   "outputs": [],
   "source": [
    "import findspark\n",
    "findspark.init()"
   ]
  },
  {
   "cell_type": "code",
   "execution_count": 2,
   "metadata": {},
   "outputs": [],
   "source": [
    "# import libraries\n",
    "from pyspark import SparkContext\n",
    "from pyspark.conf import SparkConf\n",
    "from pyspark.sql import SparkSession\n",
    "import matplotlib.pyplot as plt\n",
    "import seaborn as sns\n",
    "from scipy import stats\n",
    "from datetime import datetime\n",
    "from pyspark.sql.functions import mean, stddev, col, log\n",
    "from pyspark.sql.functions import to_date, dayofweek, to_timestamp\n",
    "from pyspark.sql import types \n",
    "from pyspark.sql.functions import col, udf\n",
    "from pyspark.sql.types import DateType\n",
    "from pyspark.sql.functions import year, month\n",
    "from pyspark.sql.functions import dayofmonth, weekofyear\n",
    "from pyspark.sql.functions import split, explode\n",
    "from pyspark.sql.functions import coalesce, first, lit\n",
    "from pyspark.ml.feature import Binarizer\n",
    "from pyspark.ml.feature import Bucketizer\n",
    "from pyspark.ml.feature import OneHotEncoder, StringIndexer, OneHotEncoderEstimator\n",
    "from pyspark.sql.functions import regexp_extract, col\n",
    "from pyspark.sql.functions import datediff\n",
    "from pyspark.sql.functions import when\n",
    "\n",
    "from pyspark.ml.linalg import Vectors\n",
    "from pyspark.ml.feature import VectorAssembler\n",
    "from pyspark.ml.regression import LinearRegression\n",
    "from pyspark.ml.regression import LinearRegressionModel\n",
    "from pyspark.ml import Pipeline\n",
    "from pyspark.ml.evaluation import BinaryClassificationEvaluator\n",
    "from pyspark.ml.classification import LogisticRegression\n",
    "from pyspark.ml.classification import DecisionTreeClassifier\n",
    "from pyspark.ml.classification import GBTClassifier, RandomForestClassifier\n",
    "from pyspark.ml.evaluation import MulticlassClassificationEvaluator\n",
    "from pyspark.mllib.evaluation import MulticlassMetrics\n",
    "from pyspark.sql.functions import *\n",
    "from pyspark.sql.types import *\n",
    "import pandas as pd"
   ]
  },
  {
   "cell_type": "code",
   "execution_count": 3,
   "metadata": {},
   "outputs": [],
   "source": [
    "spark = SparkSession.builder.appName('review').getOrCreate()"
   ]
  },
  {
   "cell_type": "code",
   "execution_count": 4,
   "metadata": {},
   "outputs": [],
   "source": [
    "xls = pd.ExcelFile('Womens_Clothing_E_Commerce_Reviews.xlsx')\n",
    "data = pd.read_excel(xls, 'Reviews',  index_col=0)"
   ]
  },
  {
   "cell_type": "code",
   "execution_count": 5,
   "metadata": {},
   "outputs": [
    {
     "data": {
      "text/html": [
       "<div>\n",
       "<style scoped>\n",
       "    .dataframe tbody tr th:only-of-type {\n",
       "        vertical-align: middle;\n",
       "    }\n",
       "\n",
       "    .dataframe tbody tr th {\n",
       "        vertical-align: top;\n",
       "    }\n",
       "\n",
       "    .dataframe thead th {\n",
       "        text-align: right;\n",
       "    }\n",
       "</style>\n",
       "<table border=\"1\" class=\"dataframe\">\n",
       "  <thead>\n",
       "    <tr style=\"text-align: right;\">\n",
       "      <th></th>\n",
       "      <th>Clothing ID</th>\n",
       "      <th>Age</th>\n",
       "      <th>Title</th>\n",
       "      <th>Review Text</th>\n",
       "      <th>Rating</th>\n",
       "      <th>Recommended IND</th>\n",
       "      <th>Positive Feedback Count</th>\n",
       "      <th>Division Name</th>\n",
       "      <th>Department Name</th>\n",
       "      <th>Class Name</th>\n",
       "    </tr>\n",
       "  </thead>\n",
       "  <tbody>\n",
       "    <tr>\n",
       "      <th>0</th>\n",
       "      <td>767</td>\n",
       "      <td>33</td>\n",
       "      <td>NaN</td>\n",
       "      <td>Absolutely wonderful - silky and sexy and comf...</td>\n",
       "      <td>4</td>\n",
       "      <td>1</td>\n",
       "      <td>0</td>\n",
       "      <td>Initmates</td>\n",
       "      <td>Intimate</td>\n",
       "      <td>Intimates</td>\n",
       "    </tr>\n",
       "    <tr>\n",
       "      <th>1</th>\n",
       "      <td>1080</td>\n",
       "      <td>34</td>\n",
       "      <td>NaN</td>\n",
       "      <td>Love this dress!  it's sooo pretty.  i happene...</td>\n",
       "      <td>5</td>\n",
       "      <td>1</td>\n",
       "      <td>4</td>\n",
       "      <td>General</td>\n",
       "      <td>Dresses</td>\n",
       "      <td>Dresses</td>\n",
       "    </tr>\n",
       "    <tr>\n",
       "      <th>2</th>\n",
       "      <td>1077</td>\n",
       "      <td>60</td>\n",
       "      <td>Some major design flaws</td>\n",
       "      <td>I had such high hopes for this dress and reall...</td>\n",
       "      <td>3</td>\n",
       "      <td>0</td>\n",
       "      <td>0</td>\n",
       "      <td>General</td>\n",
       "      <td>Dresses</td>\n",
       "      <td>Dresses</td>\n",
       "    </tr>\n",
       "    <tr>\n",
       "      <th>3</th>\n",
       "      <td>1049</td>\n",
       "      <td>50</td>\n",
       "      <td>My favorite buy!</td>\n",
       "      <td>I love, love, love this jumpsuit. it's fun, fl...</td>\n",
       "      <td>5</td>\n",
       "      <td>1</td>\n",
       "      <td>0</td>\n",
       "      <td>General Petite</td>\n",
       "      <td>Bottoms</td>\n",
       "      <td>Pants</td>\n",
       "    </tr>\n",
       "    <tr>\n",
       "      <th>4</th>\n",
       "      <td>847</td>\n",
       "      <td>47</td>\n",
       "      <td>Flattering shirt</td>\n",
       "      <td>This shirt is very flattering to all due to th...</td>\n",
       "      <td>5</td>\n",
       "      <td>1</td>\n",
       "      <td>6</td>\n",
       "      <td>General</td>\n",
       "      <td>Tops</td>\n",
       "      <td>Blouses</td>\n",
       "    </tr>\n",
       "    <tr>\n",
       "      <th>...</th>\n",
       "      <td>...</td>\n",
       "      <td>...</td>\n",
       "      <td>...</td>\n",
       "      <td>...</td>\n",
       "      <td>...</td>\n",
       "      <td>...</td>\n",
       "      <td>...</td>\n",
       "      <td>...</td>\n",
       "      <td>...</td>\n",
       "      <td>...</td>\n",
       "    </tr>\n",
       "    <tr>\n",
       "      <th>23476</th>\n",
       "      <td>1104</td>\n",
       "      <td>34</td>\n",
       "      <td>Great dress for many occasions</td>\n",
       "      <td>I was very happy to snag this dress at such a ...</td>\n",
       "      <td>5</td>\n",
       "      <td>1</td>\n",
       "      <td>0</td>\n",
       "      <td>General Petite</td>\n",
       "      <td>Dresses</td>\n",
       "      <td>Dresses</td>\n",
       "    </tr>\n",
       "    <tr>\n",
       "      <th>23477</th>\n",
       "      <td>862</td>\n",
       "      <td>48</td>\n",
       "      <td>Wish it was made of cotton</td>\n",
       "      <td>It reminds me of maternity clothes. soft, stre...</td>\n",
       "      <td>3</td>\n",
       "      <td>1</td>\n",
       "      <td>0</td>\n",
       "      <td>General Petite</td>\n",
       "      <td>Tops</td>\n",
       "      <td>Knits</td>\n",
       "    </tr>\n",
       "    <tr>\n",
       "      <th>23478</th>\n",
       "      <td>1104</td>\n",
       "      <td>31</td>\n",
       "      <td>Cute, but see through</td>\n",
       "      <td>This fit well, but the top was very see throug...</td>\n",
       "      <td>3</td>\n",
       "      <td>0</td>\n",
       "      <td>1</td>\n",
       "      <td>General Petite</td>\n",
       "      <td>Dresses</td>\n",
       "      <td>Dresses</td>\n",
       "    </tr>\n",
       "    <tr>\n",
       "      <th>23479</th>\n",
       "      <td>1084</td>\n",
       "      <td>28</td>\n",
       "      <td>Very cute dress, perfect for summer parties an...</td>\n",
       "      <td>I bought this dress for a wedding i have this ...</td>\n",
       "      <td>3</td>\n",
       "      <td>1</td>\n",
       "      <td>2</td>\n",
       "      <td>General</td>\n",
       "      <td>Dresses</td>\n",
       "      <td>Dresses</td>\n",
       "    </tr>\n",
       "    <tr>\n",
       "      <th>23480</th>\n",
       "      <td>1104</td>\n",
       "      <td>52</td>\n",
       "      <td>Please make more like this one!</td>\n",
       "      <td>This dress in a lovely platinum is feminine an...</td>\n",
       "      <td>5</td>\n",
       "      <td>1</td>\n",
       "      <td>22</td>\n",
       "      <td>General Petite</td>\n",
       "      <td>Dresses</td>\n",
       "      <td>Dresses</td>\n",
       "    </tr>\n",
       "  </tbody>\n",
       "</table>\n",
       "<p>23481 rows × 10 columns</p>\n",
       "</div>"
      ],
      "text/plain": [
       "       Clothing ID  Age                                              Title  \\\n",
       "0              767   33                                                NaN   \n",
       "1             1080   34                                                NaN   \n",
       "2             1077   60                            Some major design flaws   \n",
       "3             1049   50                                   My favorite buy!   \n",
       "4              847   47                                   Flattering shirt   \n",
       "...            ...  ...                                                ...   \n",
       "23476         1104   34                     Great dress for many occasions   \n",
       "23477          862   48                         Wish it was made of cotton   \n",
       "23478         1104   31                              Cute, but see through   \n",
       "23479         1084   28  Very cute dress, perfect for summer parties an...   \n",
       "23480         1104   52                    Please make more like this one!   \n",
       "\n",
       "                                             Review Text  Rating  \\\n",
       "0      Absolutely wonderful - silky and sexy and comf...       4   \n",
       "1      Love this dress!  it's sooo pretty.  i happene...       5   \n",
       "2      I had such high hopes for this dress and reall...       3   \n",
       "3      I love, love, love this jumpsuit. it's fun, fl...       5   \n",
       "4      This shirt is very flattering to all due to th...       5   \n",
       "...                                                  ...     ...   \n",
       "23476  I was very happy to snag this dress at such a ...       5   \n",
       "23477  It reminds me of maternity clothes. soft, stre...       3   \n",
       "23478  This fit well, but the top was very see throug...       3   \n",
       "23479  I bought this dress for a wedding i have this ...       3   \n",
       "23480  This dress in a lovely platinum is feminine an...       5   \n",
       "\n",
       "       Recommended IND  Positive Feedback Count   Division Name  \\\n",
       "0                    1                        0       Initmates   \n",
       "1                    1                        4         General   \n",
       "2                    0                        0         General   \n",
       "3                    1                        0  General Petite   \n",
       "4                    1                        6         General   \n",
       "...                ...                      ...             ...   \n",
       "23476                1                        0  General Petite   \n",
       "23477                1                        0  General Petite   \n",
       "23478                0                        1  General Petite   \n",
       "23479                1                        2         General   \n",
       "23480                1                       22  General Petite   \n",
       "\n",
       "      Department Name Class Name  \n",
       "0            Intimate  Intimates  \n",
       "1             Dresses    Dresses  \n",
       "2             Dresses    Dresses  \n",
       "3             Bottoms      Pants  \n",
       "4                Tops    Blouses  \n",
       "...               ...        ...  \n",
       "23476         Dresses    Dresses  \n",
       "23477            Tops      Knits  \n",
       "23478         Dresses    Dresses  \n",
       "23479         Dresses    Dresses  \n",
       "23480         Dresses    Dresses  \n",
       "\n",
       "[23481 rows x 10 columns]"
      ]
     },
     "execution_count": 5,
     "metadata": {},
     "output_type": "execute_result"
    }
   ],
   "source": [
    "data"
   ]
  },
  {
   "cell_type": "code",
   "execution_count": 6,
   "metadata": {},
   "outputs": [],
   "source": [
    "from pyspark.sql.types import *\n",
    "mySchema = StructType([ StructField(\"Clothing ID\", IntegerType(), True)\\\n",
    "\n",
    "                       ,StructField(\"Age\", IntegerType(), True)\\\n",
    "\n",
    "                       ,StructField(\"Title\", StringType(), True)\\\n",
    "\n",
    "                       ,StructField(\"Review Text\", StringType(), True)\\\n",
    "\n",
    "                       ,StructField(\"Rating\", IntegerType(), True)\\\n",
    "\n",
    "                       ,StructField(\"Recommended IND\", IntegerType(), True)\\\n",
    "\n",
    "                       ,StructField(\"Positive Feedback Count\", IntegerType(), True)\\\n",
    "                       \n",
    "                       ,StructField(\"Division Name\", StringType(), True)\\\n",
    "\n",
    "                       ,StructField(\"Department Name\", StringType(), True)\\\n",
    "\n",
    "                       ,StructField(\"Class Name\", StringType(), True)\n",
    "])"
   ]
  },
  {
   "cell_type": "code",
   "execution_count": 7,
   "metadata": {},
   "outputs": [],
   "source": [
    "df = spark.createDataFrame(data,schema=mySchema)"
   ]
  },
  {
   "cell_type": "code",
   "execution_count": 8,
   "metadata": {},
   "outputs": [
    {
     "name": "stdout",
     "output_type": "stream",
     "text": [
      "+-----------+---+--------------------+--------------------+------+---------------+-----------------------+--------------+---------------+----------+\n",
      "|Clothing ID|Age|               Title|         Review Text|Rating|Recommended IND|Positive Feedback Count| Division Name|Department Name|Class Name|\n",
      "+-----------+---+--------------------+--------------------+------+---------------+-----------------------+--------------+---------------+----------+\n",
      "|        767| 33|                 NaN|Absolutely wonder...|     4|              1|                      0|     Initmates|       Intimate| Intimates|\n",
      "|       1080| 34|                 NaN|Love this dress! ...|     5|              1|                      4|       General|        Dresses|   Dresses|\n",
      "|       1077| 60|Some major design...|I had such high h...|     3|              0|                      0|       General|        Dresses|   Dresses|\n",
      "|       1049| 50|    My favorite buy!|I love, love, lov...|     5|              1|                      0|General Petite|        Bottoms|     Pants|\n",
      "|        847| 47|    Flattering shirt|This shirt is ver...|     5|              1|                      6|       General|           Tops|   Blouses|\n",
      "+-----------+---+--------------------+--------------------+------+---------------+-----------------------+--------------+---------------+----------+\n",
      "only showing top 5 rows\n",
      "\n"
     ]
    }
   ],
   "source": [
    "df.show(5)"
   ]
  },
  {
   "cell_type": "code",
   "execution_count": 9,
   "metadata": {},
   "outputs": [
    {
     "data": {
      "text/html": [
       "<div>\n",
       "<style scoped>\n",
       "    .dataframe tbody tr th:only-of-type {\n",
       "        vertical-align: middle;\n",
       "    }\n",
       "\n",
       "    .dataframe tbody tr th {\n",
       "        vertical-align: top;\n",
       "    }\n",
       "\n",
       "    .dataframe thead th {\n",
       "        text-align: right;\n",
       "    }\n",
       "</style>\n",
       "<table border=\"1\" class=\"dataframe\">\n",
       "  <thead>\n",
       "    <tr style=\"text-align: right;\">\n",
       "      <th></th>\n",
       "      <th>0</th>\n",
       "    </tr>\n",
       "  </thead>\n",
       "  <tbody>\n",
       "    <tr>\n",
       "      <th>Clothing ID</th>\n",
       "      <td>0</td>\n",
       "    </tr>\n",
       "    <tr>\n",
       "      <th>Age</th>\n",
       "      <td>0</td>\n",
       "    </tr>\n",
       "    <tr>\n",
       "      <th>Title</th>\n",
       "      <td>3810</td>\n",
       "    </tr>\n",
       "    <tr>\n",
       "      <th>Review Text</th>\n",
       "      <td>845</td>\n",
       "    </tr>\n",
       "    <tr>\n",
       "      <th>Rating</th>\n",
       "      <td>0</td>\n",
       "    </tr>\n",
       "    <tr>\n",
       "      <th>Recommended IND</th>\n",
       "      <td>0</td>\n",
       "    </tr>\n",
       "    <tr>\n",
       "      <th>Positive Feedback Count</th>\n",
       "      <td>0</td>\n",
       "    </tr>\n",
       "    <tr>\n",
       "      <th>Division Name</th>\n",
       "      <td>14</td>\n",
       "    </tr>\n",
       "    <tr>\n",
       "      <th>Department Name</th>\n",
       "      <td>14</td>\n",
       "    </tr>\n",
       "    <tr>\n",
       "      <th>Class Name</th>\n",
       "      <td>14</td>\n",
       "    </tr>\n",
       "  </tbody>\n",
       "</table>\n",
       "</div>"
      ],
      "text/plain": [
       "                            0\n",
       "Clothing ID                 0\n",
       "Age                         0\n",
       "Title                    3810\n",
       "Review Text               845\n",
       "Rating                      0\n",
       "Recommended IND             0\n",
       "Positive Feedback Count     0\n",
       "Division Name              14\n",
       "Department Name            14\n",
       "Class Name                 14"
      ]
     },
     "execution_count": 9,
     "metadata": {},
     "output_type": "execute_result"
    }
   ],
   "source": [
    "df.select([count(when(isnan(c), c)).alias(c) for c in df.columns]).toPandas().T"
   ]
  },
  {
   "cell_type": "code",
   "execution_count": 10,
   "metadata": {},
   "outputs": [
    {
     "data": {
      "text/plain": [
       "23481"
      ]
     },
     "execution_count": 10,
     "metadata": {},
     "output_type": "execute_result"
    }
   ],
   "source": [
    "df.count()"
   ]
  },
  {
   "cell_type": "markdown",
   "metadata": {},
   "source": [
    "#### Remove Title feature"
   ]
  },
  {
   "cell_type": "code",
   "execution_count": 11,
   "metadata": {},
   "outputs": [
    {
     "data": {
      "text/html": [
       "<div>\n",
       "<style scoped>\n",
       "    .dataframe tbody tr th:only-of-type {\n",
       "        vertical-align: middle;\n",
       "    }\n",
       "\n",
       "    .dataframe tbody tr th {\n",
       "        vertical-align: top;\n",
       "    }\n",
       "\n",
       "    .dataframe thead th {\n",
       "        text-align: right;\n",
       "    }\n",
       "</style>\n",
       "<table border=\"1\" class=\"dataframe\">\n",
       "  <thead>\n",
       "    <tr style=\"text-align: right;\">\n",
       "      <th></th>\n",
       "      <th>0</th>\n",
       "    </tr>\n",
       "  </thead>\n",
       "  <tbody>\n",
       "    <tr>\n",
       "      <th>Clothing ID</th>\n",
       "      <td>0</td>\n",
       "    </tr>\n",
       "    <tr>\n",
       "      <th>Age</th>\n",
       "      <td>0</td>\n",
       "    </tr>\n",
       "    <tr>\n",
       "      <th>Review Text</th>\n",
       "      <td>845</td>\n",
       "    </tr>\n",
       "    <tr>\n",
       "      <th>Rating</th>\n",
       "      <td>0</td>\n",
       "    </tr>\n",
       "    <tr>\n",
       "      <th>Recommended IND</th>\n",
       "      <td>0</td>\n",
       "    </tr>\n",
       "    <tr>\n",
       "      <th>Positive Feedback Count</th>\n",
       "      <td>0</td>\n",
       "    </tr>\n",
       "    <tr>\n",
       "      <th>Division Name</th>\n",
       "      <td>14</td>\n",
       "    </tr>\n",
       "    <tr>\n",
       "      <th>Department Name</th>\n",
       "      <td>14</td>\n",
       "    </tr>\n",
       "    <tr>\n",
       "      <th>Class Name</th>\n",
       "      <td>14</td>\n",
       "    </tr>\n",
       "  </tbody>\n",
       "</table>\n",
       "</div>"
      ],
      "text/plain": [
       "                           0\n",
       "Clothing ID                0\n",
       "Age                        0\n",
       "Review Text              845\n",
       "Rating                     0\n",
       "Recommended IND            0\n",
       "Positive Feedback Count    0\n",
       "Division Name             14\n",
       "Department Name           14\n",
       "Class Name                14"
      ]
     },
     "execution_count": 11,
     "metadata": {},
     "output_type": "execute_result"
    }
   ],
   "source": [
    "df = df.drop('Title')\n",
    "df.select([count(when(isnan(c), c)).alias(c) for c in df.columns]).toPandas().T"
   ]
  },
  {
   "cell_type": "code",
   "execution_count": 12,
   "metadata": {},
   "outputs": [
    {
     "name": "stdout",
     "output_type": "stream",
     "text": [
      "+--------------------+-------+--------------+---------+---+\n",
      "|Rating_Division Name|General|General Petite|Initmates|NaN|\n",
      "+--------------------+-------+--------------+---------+---+\n",
      "|                   5|   7611|          4604|      901| 14|\n",
      "|                   1|    490|           297|       54|  0|\n",
      "|                   2|    959|           528|       77|  0|\n",
      "|                   3|   1772|           943|      155|  0|\n",
      "|                   4|   3013|          1748|      315|  0|\n",
      "+--------------------+-------+--------------+---------+---+\n",
      "\n"
     ]
    }
   ],
   "source": [
    "df.crosstab('Rating', 'Division Name').show()"
   ]
  },
  {
   "cell_type": "code",
   "execution_count": 13,
   "metadata": {},
   "outputs": [
    {
     "name": "stdout",
     "output_type": "stream",
     "text": [
      "+----------------------+-------+-------+--------+-------+---+----+-----+\n",
      "|Rating_Department Name|Bottoms|Dresses|Intimate|Jackets|NaN|Tops|Trend|\n",
      "+----------------------+-------+-------+--------+-------+---+----+-----+\n",
      "|                     5|   2273|   3397|    1033|    631| 14|5730|   52|\n",
      "|                     1|    115|    227|      63|     49|  0| 376|   11|\n",
      "|                     2|    205|    461|      90|     60|  0| 737|   11|\n",
      "|                     3|    421|    837|     178|     91|  0|1324|   19|\n",
      "|                     4|    785|   1395|     371|    201|  0|2298|   26|\n",
      "+----------------------+-------+-------+--------+-------+---+----+-----+\n",
      "\n"
     ]
    }
   ],
   "source": [
    "df.crosstab('Rating', 'Department Name').show()"
   ]
  },
  {
   "cell_type": "code",
   "execution_count": 14,
   "metadata": {},
   "outputs": [
    {
     "name": "stdout",
     "output_type": "stream",
     "text": [
      "+-----------------+---+---+---+----+----+\n",
      "|Class Name_Rating|  1|  2|  3|   4|   5|\n",
      "+-----------------+---+---+---+----+----+\n",
      "|         Chemises|  0|  0|  0|   1|   0|\n",
      "|            Pants| 42| 82|157| 291| 816|\n",
      "|            Trend| 11| 11| 19|  26|  52|\n",
      "|              NaN|  0|  0|  0|   0|  14|\n",
      "|           Lounge| 23| 25| 78| 160| 405|\n",
      "|       Fine gauge| 30| 75|119| 230| 646|\n",
      "|        Outerwear| 14| 22| 29|  83| 180|\n",
      "|   Casual bottoms|  0|  0|  0|   1|   1|\n",
      "|         Layering|  3|  8|  9|  37|  89|\n",
      "|         Sweaters| 49|105|195| 268| 810|\n",
      "|            Jeans| 30| 55|115| 218| 729|\n",
      "|            Sleep| 10| 15| 17|  44| 142|\n",
      "|          Jackets| 35| 38| 62| 118| 451|\n",
      "|          Legwear| 10|  6| 16|  29| 104|\n",
      "|             Swim| 10| 28| 42|  73| 197|\n",
      "|          Blouses|119|229|394| 669|1686|\n",
      "|           Skirts| 34| 51|108| 208| 544|\n",
      "|        Intimates|  7|  8| 16|  27|  96|\n",
      "|           Shorts|  9| 17| 41|  67| 183|\n",
      "|          Dresses|227|461|837|1395|3397|\n",
      "+-----------------+---+---+---+----+----+\n",
      "only showing top 20 rows\n",
      "\n"
     ]
    }
   ],
   "source": [
    "df.crosstab('Class Name', 'Rating').show()"
   ]
  },
  {
   "cell_type": "markdown",
   "metadata": {},
   "source": [
    "#####  Division Name, Department Name, Class Name, Review Text help classify ratings => dropna instead of remove column\n"
   ]
  },
  {
   "cell_type": "code",
   "execution_count": 15,
   "metadata": {},
   "outputs": [
    {
     "data": {
      "text/html": [
       "<div>\n",
       "<style scoped>\n",
       "    .dataframe tbody tr th:only-of-type {\n",
       "        vertical-align: middle;\n",
       "    }\n",
       "\n",
       "    .dataframe tbody tr th {\n",
       "        vertical-align: top;\n",
       "    }\n",
       "\n",
       "    .dataframe thead th {\n",
       "        text-align: right;\n",
       "    }\n",
       "</style>\n",
       "<table border=\"1\" class=\"dataframe\">\n",
       "  <thead>\n",
       "    <tr style=\"text-align: right;\">\n",
       "      <th></th>\n",
       "      <th>0</th>\n",
       "    </tr>\n",
       "  </thead>\n",
       "  <tbody>\n",
       "    <tr>\n",
       "      <th>Clothing ID</th>\n",
       "      <td>0</td>\n",
       "    </tr>\n",
       "    <tr>\n",
       "      <th>Age</th>\n",
       "      <td>0</td>\n",
       "    </tr>\n",
       "    <tr>\n",
       "      <th>Review Text</th>\n",
       "      <td>0</td>\n",
       "    </tr>\n",
       "    <tr>\n",
       "      <th>Rating</th>\n",
       "      <td>0</td>\n",
       "    </tr>\n",
       "    <tr>\n",
       "      <th>Recommended IND</th>\n",
       "      <td>0</td>\n",
       "    </tr>\n",
       "    <tr>\n",
       "      <th>Positive Feedback Count</th>\n",
       "      <td>0</td>\n",
       "    </tr>\n",
       "    <tr>\n",
       "      <th>Division Name</th>\n",
       "      <td>0</td>\n",
       "    </tr>\n",
       "    <tr>\n",
       "      <th>Department Name</th>\n",
       "      <td>0</td>\n",
       "    </tr>\n",
       "    <tr>\n",
       "      <th>Class Name</th>\n",
       "      <td>0</td>\n",
       "    </tr>\n",
       "  </tbody>\n",
       "</table>\n",
       "</div>"
      ],
      "text/plain": [
       "                         0\n",
       "Clothing ID              0\n",
       "Age                      0\n",
       "Review Text              0\n",
       "Rating                   0\n",
       "Recommended IND          0\n",
       "Positive Feedback Count  0\n",
       "Division Name            0\n",
       "Department Name          0\n",
       "Class Name               0"
      ]
     },
     "execution_count": 15,
     "metadata": {},
     "output_type": "execute_result"
    }
   ],
   "source": [
    "def to_null(c):\n",
    "    return when(~(col(c).isNull() | isnan(col(c)) | (trim(col(c)) == \"\")), col(c))\n",
    "df = df.select([to_null(c).alias(c) for c in df.columns]).na.drop()\n",
    "df.select([count(when(isnan(c), c)).alias(c) for c in df.columns]).toPandas().T"
   ]
  },
  {
   "cell_type": "code",
   "execution_count": 16,
   "metadata": {},
   "outputs": [
    {
     "name": "stdout",
     "output_type": "stream",
     "text": [
      "+------+--------------------+----------------------------+-----------------+------------------+\n",
      "|Rating|avg(Recommended IND)|avg(Positive Feedback Count)| avg(Clothing ID)|          avg(Age)|\n",
      "+------+--------------------+----------------------------+-----------------+------------------+\n",
      "|     1|0.018292682926829267|           3.551219512195122|917.0341463414634| 43.72560975609756|\n",
      "|     3|  0.4145995747696669|          3.1948972360028347|928.2505315379163| 42.15946137491141|\n",
      "|     5|  0.9981638192559477|          2.4102666453776145|915.8082388631647|43.697189845122146|\n",
      "|     4|  0.9665783574485429|           2.488485836560016|923.0034644385572|43.007540248624416|\n",
      "|     2|0.060723514211886306|           3.356589147286822|926.3365633074935| 42.61434108527132|\n",
      "+------+--------------------+----------------------------+-----------------+------------------+\n",
      "\n"
     ]
    }
   ],
   "source": [
    "df.groupby('Rating').agg({'Clothing ID': 'mean', 'Age': 'mean', 'Recommended IND': 'mean', 'Positive Feedback Count': 'mean'}).show()"
   ]
  },
  {
   "cell_type": "markdown",
   "metadata": {},
   "source": [
    "##### keep 2 columns Recommended IND, Positive Feedback Count, drop Clothing ID and Age"
   ]
  },
  {
   "cell_type": "code",
   "execution_count": 17,
   "metadata": {},
   "outputs": [
    {
     "name": "stdout",
     "output_type": "stream",
     "text": [
      "+--------------------+------+---------------+-----------------------+--------------+---------------+----------+\n",
      "|         Review Text|Rating|Recommended IND|Positive Feedback Count| Division Name|Department Name|Class Name|\n",
      "+--------------------+------+---------------+-----------------------+--------------+---------------+----------+\n",
      "|Absolutely wonder...|     4|              1|                      0|     Initmates|       Intimate| Intimates|\n",
      "|Love this dress! ...|     5|              1|                      4|       General|        Dresses|   Dresses|\n",
      "|I had such high h...|     3|              0|                      0|       General|        Dresses|   Dresses|\n",
      "|I love, love, lov...|     5|              1|                      0|General Petite|        Bottoms|     Pants|\n",
      "|This shirt is ver...|     5|              1|                      6|       General|           Tops|   Blouses|\n",
      "|I love tracy rees...|     2|              0|                      4|       General|        Dresses|   Dresses|\n",
      "|I aded this in my...|     5|              1|                      1|General Petite|           Tops|     Knits|\n",
      "|I ordered this in...|     4|              1|                      4|General Petite|           Tops|     Knits|\n",
      "|I love this dress...|     5|              1|                      0|       General|        Dresses|   Dresses|\n",
      "|I'm 5\"5' and 125 ...|     5|              1|                      0|       General|        Dresses|   Dresses|\n",
      "|This dress is per...|     5|              1|                      2|General Petite|        Dresses|   Dresses|\n",
      "|More and more i f...|     5|              1|                      2|General Petite|        Dresses|   Dresses|\n",
      "|Bought the black ...|     5|              1|                      0|     Initmates|       Intimate| Intimates|\n",
      "|This is a nice ch...|     3|              1|                      1|       General|        Dresses|   Dresses|\n",
      "|I took these out ...|     4|              1|                      3|       General|        Bottoms|     Pants|\n",
      "|Material and colo...|     3|              1|                      2|       General|        Bottoms|     Pants|\n",
      "|Took a chance on ...|     5|              1|                      0|       General|           Tops|   Blouses|\n",
      "|A flattering, sup...|     5|              1|                      0|       General|        Jackets| Outerwear|\n",
      "|I love the look a...|     5|              1|                      0|       General|        Dresses|   Dresses|\n",
      "|If this product w...|     4|              1|                      2|       General|           Tops|   Blouses|\n",
      "+--------------------+------+---------------+-----------------------+--------------+---------------+----------+\n",
      "only showing top 20 rows\n",
      "\n"
     ]
    }
   ],
   "source": [
    "df = df.drop('Age', 'Clothing ID')\n",
    "df.show()"
   ]
  },
  {
   "cell_type": "code",
   "execution_count": 18,
   "metadata": {},
   "outputs": [
    {
     "name": "stdout",
     "output_type": "stream",
     "text": [
      "+------+------------------+\n",
      "|Rating|       avg(length)|\n",
      "+------+------------------+\n",
      "|     1|304.01951219512193|\n",
      "|     3|327.42700212615165|\n",
      "|     5|298.29402842088456|\n",
      "|     4| 322.3945384145099|\n",
      "|     2| 318.6052971576227|\n",
      "+------+------------------+\n",
      "\n"
     ]
    }
   ],
   "source": [
    "df = df.withColumn('length', length(df['Review Text']))\n",
    "df.groupby('Rating').mean('length').show()"
   ]
  },
  {
   "cell_type": "markdown",
   "metadata": {},
   "source": [
    "##### drop length"
   ]
  },
  {
   "cell_type": "code",
   "execution_count": 19,
   "metadata": {},
   "outputs": [],
   "source": [
    "df = df.drop('length')"
   ]
  },
  {
   "cell_type": "code",
   "execution_count": 20,
   "metadata": {},
   "outputs": [],
   "source": [
    "from pyspark.ml.feature import Tokenizer, StopWordsRemover\n",
    "from pyspark.ml.feature import CountVectorizer, IDF, StringIndexer"
   ]
  },
  {
   "cell_type": "code",
   "execution_count": 21,
   "metadata": {},
   "outputs": [],
   "source": [
    "token = Tokenizer(inputCol = 'Review Text', outputCol = 'token_text')\n",
    "swremove = StopWordsRemover(inputCol = 'token_text', outputCol = 'stop_tokens')\n",
    "count_vec = CountVectorizer(inputCol = 'stop_tokens', outputCol = 'c_vec')\n",
    "idf = IDF(inputCol = 'c_vec', outputCol = 'tf_idf')\n",
    "idx1 = StringIndexer(inputCol = 'Rating', outputCol = 'label')\n",
    "idx2 = StringIndexer(inputCol = 'Recommended IND', outputCol = 'rec_id')\n",
    "idx3 = StringIndexer(inputCol = 'Division Name', outputCol = 'div_id')\n",
    "idx4 = StringIndexer(inputCol = 'Department Name', outputCol = 'dep_id')\n",
    "idx5 = StringIndexer(inputCol = 'Class Name', outputCol = 'class_id')"
   ]
  },
  {
   "cell_type": "code",
   "execution_count": 22,
   "metadata": {},
   "outputs": [],
   "source": [
    "clean = VectorAssembler(inputCols = ['tf_idf', 'rec_id', 'Positive Feedback Count', 'div_id', 'dep_id', 'class_id'], outputCol = 'features')"
   ]
  },
  {
   "cell_type": "code",
   "execution_count": 23,
   "metadata": {},
   "outputs": [],
   "source": [
    "pipe = Pipeline(stages = [idx1, idx2, idx3, idx4, idx5, token, swremove, count_vec, idf, clean])"
   ]
  },
  {
   "cell_type": "code",
   "execution_count": 24,
   "metadata": {},
   "outputs": [],
   "source": [
    "cleaner = pipe.fit(df)"
   ]
  },
  {
   "cell_type": "code",
   "execution_count": 25,
   "metadata": {},
   "outputs": [],
   "source": [
    "final = cleaner.transform(df)"
   ]
  },
  {
   "cell_type": "code",
   "execution_count": 26,
   "metadata": {},
   "outputs": [],
   "source": [
    "final = final.select(['features', 'label'])"
   ]
  },
  {
   "cell_type": "code",
   "execution_count": 27,
   "metadata": {},
   "outputs": [
    {
     "name": "stdout",
     "output_type": "stream",
     "text": [
      "+--------------------+-----+\n",
      "|            features|label|\n",
      "+--------------------+-----+\n",
      "|(37546,[22,51,139...|  1.0|\n",
      "|(37546,[0,1,11,12...|  0.0|\n",
      "|(37546,[2,6,7,9,1...|  2.0|\n",
      "|(37546,[0,5,8,42,...|  0.0|\n",
      "|(37546,[0,5,23,36...|  0.0|\n",
      "+--------------------+-----+\n",
      "only showing top 5 rows\n",
      "\n"
     ]
    }
   ],
   "source": [
    "final.show(5)"
   ]
  },
  {
   "cell_type": "code",
   "execution_count": 28,
   "metadata": {},
   "outputs": [],
   "source": [
    "from pyspark.ml.classification import NaiveBayes"
   ]
  },
  {
   "cell_type": "code",
   "execution_count": 29,
   "metadata": {},
   "outputs": [],
   "source": [
    "log = LogisticRegression(labelCol = 'label', featuresCol = 'features')\n",
    "nb = NaiveBayes(labelCol = 'label', featuresCol = 'features')\n",
    "dtc = DecisionTreeClassifier(labelCol = 'label', featuresCol = 'features')\n",
    "rfc = RandomForestClassifier(labelCol = 'label', featuresCol = 'features')"
   ]
  },
  {
   "cell_type": "code",
   "execution_count": 30,
   "metadata": {},
   "outputs": [],
   "source": [
    "train_data, test_data = final.randomSplit([0.7, 0.3])"
   ]
  },
  {
   "cell_type": "code",
   "execution_count": 31,
   "metadata": {},
   "outputs": [],
   "source": [
    "logmodel = log.fit(train_data)\n",
    "nbmodel = nb.fit(train_data)\n",
    "dtcmodel = dtc.fit(train_data)\n",
    "rfcmodel = rfc.fit(train_data)"
   ]
  },
  {
   "cell_type": "code",
   "execution_count": 32,
   "metadata": {},
   "outputs": [],
   "source": [
    "logres = logmodel.transform(test_data)\n",
    "nbres = nbmodel.transform(test_data)\n",
    "dtcres = dtcmodel.transform(test_data)\n",
    "rfcres = rfcmodel.transform(test_data)"
   ]
  },
  {
   "cell_type": "code",
   "execution_count": 33,
   "metadata": {},
   "outputs": [],
   "source": [
    "acc = MulticlassClassificationEvaluator()"
   ]
  },
  {
   "cell_type": "code",
   "execution_count": 34,
   "metadata": {},
   "outputs": [
    {
     "data": {
      "text/plain": [
       "0.5484864423178412"
      ]
     },
     "execution_count": 34,
     "metadata": {},
     "output_type": "execute_result"
    }
   ],
   "source": [
    "acc.evaluate(logres)"
   ]
  },
  {
   "cell_type": "code",
   "execution_count": 35,
   "metadata": {},
   "outputs": [
    {
     "data": {
      "text/plain": [
       "0.553694205257784"
      ]
     },
     "execution_count": 35,
     "metadata": {},
     "output_type": "execute_result"
    }
   ],
   "source": [
    "acc.evaluate(nbres)"
   ]
  },
  {
   "cell_type": "code",
   "execution_count": 36,
   "metadata": {},
   "outputs": [
    {
     "data": {
      "text/plain": [
       "0.5403386495694973"
      ]
     },
     "execution_count": 36,
     "metadata": {},
     "output_type": "execute_result"
    }
   ],
   "source": [
    "acc.evaluate(dtcres)"
   ]
  },
  {
   "cell_type": "code",
   "execution_count": 37,
   "metadata": {},
   "outputs": [
    {
     "data": {
      "text/plain": [
       "0.3915109839439266"
      ]
     },
     "execution_count": 37,
     "metadata": {},
     "output_type": "execute_result"
    }
   ],
   "source": [
    "acc.evaluate(rfcres)"
   ]
  },
  {
   "cell_type": "markdown",
   "metadata": {},
   "source": [
    "##### => choose Model NaiveBayes "
   ]
  },
  {
   "cell_type": "code",
   "execution_count": 38,
   "metadata": {},
   "outputs": [
    {
     "data": {
      "text/html": [
       "<div>\n",
       "<style scoped>\n",
       "    .dataframe tbody tr th:only-of-type {\n",
       "        vertical-align: middle;\n",
       "    }\n",
       "\n",
       "    .dataframe tbody tr th {\n",
       "        vertical-align: top;\n",
       "    }\n",
       "\n",
       "    .dataframe thead th {\n",
       "        text-align: right;\n",
       "    }\n",
       "</style>\n",
       "<table border=\"1\" class=\"dataframe\">\n",
       "  <thead>\n",
       "    <tr style=\"text-align: right;\">\n",
       "      <th></th>\n",
       "      <th>Clothing ID</th>\n",
       "      <th>Age</th>\n",
       "      <th>Title</th>\n",
       "      <th>Review Text</th>\n",
       "      <th>Recommended IND</th>\n",
       "      <th>Positive Feedback Count</th>\n",
       "      <th>Division Name</th>\n",
       "      <th>Department Name</th>\n",
       "      <th>Class Name</th>\n",
       "    </tr>\n",
       "  </thead>\n",
       "  <tbody>\n",
       "    <tr>\n",
       "      <th>0</th>\n",
       "      <td>1077</td>\n",
       "      <td>53</td>\n",
       "      <td>Dress looks like it's made of cheap material</td>\n",
       "      <td>Dress runs small esp where the zipper area run...</td>\n",
       "      <td>0</td>\n",
       "      <td>14</td>\n",
       "      <td>General</td>\n",
       "      <td>Dresses</td>\n",
       "      <td>Dresses</td>\n",
       "    </tr>\n",
       "    <tr>\n",
       "      <th>1</th>\n",
       "      <td>862</td>\n",
       "      <td>66</td>\n",
       "      <td>Cute top</td>\n",
       "      <td>Nice top. armholes are a bit oversized but as ...</td>\n",
       "      <td>1</td>\n",
       "      <td>2</td>\n",
       "      <td>General</td>\n",
       "      <td>Tops</td>\n",
       "      <td>Knits</td>\n",
       "    </tr>\n",
       "    <tr>\n",
       "      <th>2</th>\n",
       "      <td>1080</td>\n",
       "      <td>31</td>\n",
       "      <td>Underwhelmed</td>\n",
       "      <td>Was really excited for this dress but should h...</td>\n",
       "      <td>0</td>\n",
       "      <td>1</td>\n",
       "      <td>General</td>\n",
       "      <td>Dresses</td>\n",
       "      <td>Dresses</td>\n",
       "    </tr>\n",
       "    <tr>\n",
       "      <th>3</th>\n",
       "      <td>936</td>\n",
       "      <td>35</td>\n",
       "      <td>Absolutely perfect</td>\n",
       "      <td>If you are going for a ridiculously high price...</td>\n",
       "      <td>0</td>\n",
       "      <td>9</td>\n",
       "      <td>General</td>\n",
       "      <td>Tops</td>\n",
       "      <td>Sweaters</td>\n",
       "    </tr>\n",
       "    <tr>\n",
       "      <th>4</th>\n",
       "      <td>872</td>\n",
       "      <td>35</td>\n",
       "      <td>Cute comfy casual</td>\n",
       "      <td>I saw this online and immediately purchased th...</td>\n",
       "      <td>1</td>\n",
       "      <td>0</td>\n",
       "      <td>General</td>\n",
       "      <td>Tops</td>\n",
       "      <td>Knits</td>\n",
       "    </tr>\n",
       "  </tbody>\n",
       "</table>\n",
       "</div>"
      ],
      "text/plain": [
       "   Clothing ID  Age                                         Title  \\\n",
       "0         1077   53  Dress looks like it's made of cheap material   \n",
       "1          862   66                                      Cute top   \n",
       "2         1080   31                                  Underwhelmed   \n",
       "3          936   35                            Absolutely perfect   \n",
       "4          872   35                             Cute comfy casual   \n",
       "\n",
       "                                         Review Text  Recommended IND  \\\n",
       "0  Dress runs small esp where the zipper area run...                0   \n",
       "1  Nice top. armholes are a bit oversized but as ...                1   \n",
       "2  Was really excited for this dress but should h...                0   \n",
       "3  If you are going for a ridiculously high price...                0   \n",
       "4  I saw this online and immediately purchased th...                1   \n",
       "\n",
       "   Positive Feedback Count Division Name Department Name Class Name  \n",
       "0                       14       General         Dresses    Dresses  \n",
       "1                        2       General            Tops      Knits  \n",
       "2                        1       General         Dresses    Dresses  \n",
       "3                        9       General            Tops   Sweaters  \n",
       "4                        0       General            Tops      Knits  "
      ]
     },
     "execution_count": 38,
     "metadata": {},
     "output_type": "execute_result"
    }
   ],
   "source": [
    "xls = pd.ExcelFile('Womens_Clothing_E_Commerce_Reviews.xlsx')\n",
    "data = pd.read_excel(xls, 'new_reviews',  index_col=0)\n",
    "data"
   ]
  },
  {
   "cell_type": "code",
   "execution_count": 39,
   "metadata": {},
   "outputs": [
    {
     "name": "stdout",
     "output_type": "stream",
     "text": [
      "+-----------+---+--------------------+--------------------+---------------+-----------------------+-------------+---------------+----------+\n",
      "|Clothing ID|Age|               Title|         Review Text|Recommended IND|Positive Feedback Count|Division Name|Department Name|Class Name|\n",
      "+-----------+---+--------------------+--------------------+---------------+-----------------------+-------------+---------------+----------+\n",
      "|       1077| 53|Dress looks like ...|Dress runs small ...|              0|                     14|      General|        Dresses|   Dresses|\n",
      "|        862| 66|            Cute top|Nice top. armhole...|              1|                      2|      General|           Tops|     Knits|\n",
      "|       1080| 31|        Underwhelmed|Was really excite...|              0|                      1|      General|        Dresses|   Dresses|\n",
      "|        936| 35|  Absolutely perfect|If you are going ...|              0|                      9|      General|           Tops|  Sweaters|\n",
      "|        872| 35|   Cute comfy casual|I saw this online...|              1|                      0|      General|           Tops|     Knits|\n",
      "+-----------+---+--------------------+--------------------+---------------+-----------------------+-------------+---------------+----------+\n",
      "\n"
     ]
    }
   ],
   "source": [
    "mySchema = StructType([ StructField(\"Clothing ID\", IntegerType(), True)\\\n",
    "\n",
    "                       ,StructField(\"Age\", IntegerType(), True)\\\n",
    "\n",
    "                       ,StructField(\"Title\", StringType(), True)\\\n",
    "\n",
    "                       ,StructField(\"Review Text\", StringType(), True)\\\n",
    "\n",
    "                       ,StructField(\"Recommended IND\", IntegerType(), True)\\\n",
    "\n",
    "                       ,StructField(\"Positive Feedback Count\", IntegerType(), True)\\\n",
    "                       \n",
    "                       ,StructField(\"Division Name\", StringType(), True)\\\n",
    "\n",
    "                       ,StructField(\"Department Name\", StringType(), True)\\\n",
    "\n",
    "                       ,StructField(\"Class Name\", StringType(), True)\n",
    "])\n",
    "df_new = spark.createDataFrame(data,schema=mySchema)\n",
    "df_new.show()"
   ]
  },
  {
   "cell_type": "code",
   "execution_count": 40,
   "metadata": {},
   "outputs": [],
   "source": [
    "pipe = Pipeline(stages = [idx2, idx3, idx4, idx5, token, swremove, count_vec, idf, clean])\n",
    "cleaner_new = pipe.fit(df_new)"
   ]
  },
  {
   "cell_type": "code",
   "execution_count": 41,
   "metadata": {},
   "outputs": [],
   "source": [
    "final_new = cleaner_new.transform(df_new)"
   ]
  },
  {
   "cell_type": "code",
   "execution_count": 42,
   "metadata": {},
   "outputs": [
    {
     "name": "stdout",
     "output_type": "stream",
     "text": [
      "+--------------------+\n",
      "|            features|\n",
      "+--------------------+\n",
      "|(152,[0,1,2,3,4,5...|\n",
      "|(152,[7,10,12,13,...|\n",
      "|(152,[0,2,3,5,8,9...|\n",
      "|(152,[1,4,8,11,12...|\n",
      "|(152,[6,9,20,24,2...|\n",
      "+--------------------+\n",
      "\n"
     ]
    }
   ],
   "source": [
    "final_new = final_new.select(['features'])\n",
    "final_new.show()"
   ]
  },
  {
   "cell_type": "code",
   "execution_count": 43,
   "metadata": {},
   "outputs": [],
   "source": [
    "results = nbmodel.transform(final_new)"
   ]
  }
 ],
 "metadata": {
  "kernelspec": {
   "display_name": "Python 3",
   "language": "python",
   "name": "python3"
  },
  "language_info": {
   "codemirror_mode": {
    "name": "ipython",
    "version": 3
   },
   "file_extension": ".py",
   "mimetype": "text/x-python",
   "name": "python",
   "nbconvert_exporter": "python",
   "pygments_lexer": "ipython3",
   "version": "3.6.8"
  }
 },
 "nbformat": 4,
 "nbformat_minor": 4
}
