{
 "cells": [
  {
   "cell_type": "code",
   "execution_count": 1,
   "metadata": {},
   "outputs": [],
   "source": [
    "import findspark\n",
    "findspark.init()"
   ]
  },
  {
   "cell_type": "code",
   "execution_count": 2,
   "metadata": {},
   "outputs": [],
   "source": [
    "from pyspark.sql import SparkSession\n",
    "from pyspark import SparkContext\n",
    "from pyspark import SparkConf"
   ]
  },
  {
   "cell_type": "code",
   "execution_count": 3,
   "metadata": {},
   "outputs": [],
   "source": [
    "SparkContext.setSystemProperty('spark.executor.memory', '12g')\n",
    "sc = SparkContext(master='local', appName='Recommendation')"
   ]
  },
  {
   "cell_type": "code",
   "execution_count": 4,
   "metadata": {},
   "outputs": [],
   "source": [
    "from pyspark.sql import SparkSession"
   ]
  },
  {
   "cell_type": "code",
   "execution_count": 5,
   "metadata": {},
   "outputs": [],
   "source": [
    "spark = SparkSession(sc)"
   ]
  },
  {
   "cell_type": "code",
   "execution_count": 6,
   "metadata": {},
   "outputs": [],
   "source": [
    "data = spark.read.json(\"reviews_Video_Games_5.json.gz\")"
   ]
  },
  {
   "cell_type": "code",
   "execution_count": 7,
   "metadata": {},
   "outputs": [
    {
     "name": "stdout",
     "output_type": "stream",
     "text": [
      "+----------+-------+-------+--------------------+-----------+--------------+--------------------+--------------------+--------------+\n",
      "|      asin|helpful|overall|          reviewText| reviewTime|    reviewerID|        reviewerName|             summary|unixReviewTime|\n",
      "+----------+-------+-------+--------------------+-----------+--------------+--------------------+--------------------+--------------+\n",
      "|0700099867|[8, 12]|    1.0|Installing the ga...| 07 9, 2012|A2HD75EMZR8QLN|                 123|Pay to unlock con...|    1341792000|\n",
      "|0700099867| [0, 0]|    4.0|If you like rally...|06 30, 2013|A3UR8NLLY1ZHCX|Alejandro Henao \"...|     Good rally game|    1372550400|\n",
      "|0700099867| [0, 0]|    1.0|1st shipment rece...|06 28, 2014|A1INA0F5CWW3J4|Amazon Shopper \"M...|           Wrong key|    1403913600|\n",
      "|0700099867|[7, 10]|    3.0|I got this versio...|09 14, 2011|A1DLMTOTHQ4AST|            ampgreen|awesome game, if ...|    1315958400|\n",
      "|0700099867| [2, 2]|    4.0|I had Dirt 2 on X...|06 14, 2011|A361M14PU2GUEG|Angry Ryan \"Ryan ...|              DIRT 3|    1308009600|\n",
      "+----------+-------+-------+--------------------+-----------+--------------+--------------------+--------------------+--------------+\n",
      "only showing top 5 rows\n",
      "\n"
     ]
    }
   ],
   "source": [
    "data.show(5,truncate=True)"
   ]
  },
  {
   "cell_type": "code",
   "execution_count": 8,
   "metadata": {},
   "outputs": [],
   "source": [
    "data_sub = data.select(['reviewerID', 'asin', 'overall'])"
   ]
  },
  {
   "cell_type": "code",
   "execution_count": 9,
   "metadata": {},
   "outputs": [
    {
     "data": {
      "text/plain": [
       "231780"
      ]
     },
     "execution_count": 9,
     "metadata": {},
     "output_type": "execute_result"
    }
   ],
   "source": [
    "data_sub.count()"
   ]
  },
  {
   "cell_type": "code",
   "execution_count": 10,
   "metadata": {},
   "outputs": [],
   "source": [
    "from pyspark.sql.types import DoubleType\n",
    "from pyspark.sql.functions import isnan, when, count, col, udf"
   ]
  },
  {
   "cell_type": "code",
   "execution_count": 11,
   "metadata": {},
   "outputs": [
    {
     "name": "stdout",
     "output_type": "stream",
     "text": [
      "+--------------+----------+-------+\n",
      "|    reviewerID|      asin|overall|\n",
      "+--------------+----------+-------+\n",
      "|A2HD75EMZR8QLN|0700099867|    1.0|\n",
      "|A3UR8NLLY1ZHCX|0700099867|    4.0|\n",
      "|A1INA0F5CWW3J4|0700099867|    1.0|\n",
      "|A1DLMTOTHQ4AST|0700099867|    3.0|\n",
      "|A361M14PU2GUEG|0700099867|    4.0|\n",
      "+--------------+----------+-------+\n",
      "only showing top 5 rows\n",
      "\n"
     ]
    }
   ],
   "source": [
    "data_sub.show(5, truncate=True)"
   ]
  },
  {
   "cell_type": "code",
   "execution_count": 12,
   "metadata": {},
   "outputs": [
    {
     "name": "stdout",
     "output_type": "stream",
     "text": [
      "root\n",
      " |-- reviewerID: string (nullable = true)\n",
      " |-- asin: string (nullable = true)\n",
      " |-- overall: double (nullable = true)\n",
      "\n"
     ]
    }
   ],
   "source": [
    "data_sub.printSchema()"
   ]
  },
  {
   "cell_type": "code",
   "execution_count": 13,
   "metadata": {},
   "outputs": [
    {
     "data": {
      "text/html": [
       "<div>\n",
       "<style scoped>\n",
       "    .dataframe tbody tr th:only-of-type {\n",
       "        vertical-align: middle;\n",
       "    }\n",
       "\n",
       "    .dataframe tbody tr th {\n",
       "        vertical-align: top;\n",
       "    }\n",
       "\n",
       "    .dataframe thead th {\n",
       "        text-align: right;\n",
       "    }\n",
       "</style>\n",
       "<table border=\"1\" class=\"dataframe\">\n",
       "  <thead>\n",
       "    <tr style=\"text-align: right;\">\n",
       "      <th></th>\n",
       "      <th>0</th>\n",
       "    </tr>\n",
       "  </thead>\n",
       "  <tbody>\n",
       "    <tr>\n",
       "      <th>reviewerID</th>\n",
       "      <td>0</td>\n",
       "    </tr>\n",
       "    <tr>\n",
       "      <th>asin</th>\n",
       "      <td>0</td>\n",
       "    </tr>\n",
       "    <tr>\n",
       "      <th>overall</th>\n",
       "      <td>0</td>\n",
       "    </tr>\n",
       "  </tbody>\n",
       "</table>\n",
       "</div>"
      ],
      "text/plain": [
       "            0\n",
       "reviewerID  0\n",
       "asin        0\n",
       "overall     0"
      ]
     },
     "execution_count": 13,
     "metadata": {},
     "output_type": "execute_result"
    }
   ],
   "source": [
    "data_sub.select([count(when(col(c).isNull(), c)).alias(c) for c in data_sub.columns]).toPandas().T"
   ]
  },
  {
   "cell_type": "markdown",
   "metadata": {},
   "source": [
    "##### do not have null"
   ]
  },
  {
   "cell_type": "code",
   "execution_count": 14,
   "metadata": {},
   "outputs": [
    {
     "data": {
      "text/plain": [
       "231780"
      ]
     },
     "metadata": {},
     "output_type": "display_data"
    },
    {
     "data": {
      "text/plain": [
       "24303"
      ]
     },
     "metadata": {},
     "output_type": "display_data"
    },
    {
     "data": {
      "text/plain": [
       "10672"
      ]
     },
     "metadata": {},
     "output_type": "display_data"
    }
   ],
   "source": [
    "users = data_sub.select(\"reviewerID\").distinct().count()\n",
    "products = data_sub.select(\"asin\").distinct().count()\n",
    "numerator = data_sub.count()\n",
    "display(numerator, users, products)"
   ]
  },
  {
   "cell_type": "code",
   "execution_count": 15,
   "metadata": {},
   "outputs": [
    {
     "data": {
      "text/plain": [
       "259361616"
      ]
     },
     "execution_count": 15,
     "metadata": {},
     "output_type": "execute_result"
    }
   ],
   "source": [
    "denominator = users * products\n",
    "denominator"
   ]
  },
  {
   "cell_type": "code",
   "execution_count": 16,
   "metadata": {},
   "outputs": [
    {
     "name": "stdout",
     "output_type": "stream",
     "text": [
      "Sparsity: \n"
     ]
    },
    {
     "data": {
      "text/plain": [
       "(None, 0.9991063442479476)"
      ]
     },
     "execution_count": 16,
     "metadata": {},
     "output_type": "execute_result"
    }
   ],
   "source": [
    "sparsity = 1 - (numerator*1.0 / denominator)\n",
    "print (\"Sparsity: \"), sparsity"
   ]
  },
  {
   "cell_type": "code",
   "execution_count": 17,
   "metadata": {},
   "outputs": [],
   "source": [
    "from pyspark.ml.evaluation import RegressionEvaluator\n",
    "from pyspark.ml.recommendation import ALS\n",
    "from pyspark.ml.feature import StringIndexer\n",
    "from pyspark.ml import Pipeline"
   ]
  },
  {
   "cell_type": "code",
   "execution_count": 18,
   "metadata": {},
   "outputs": [],
   "source": [
    "indexer = StringIndexer(inputCol='reviewerID',outputCol='reviewerID_idx')\n",
    "indexer_model = indexer.fit(data_sub)\n",
    "data_indexed = indexer_model.transform(data_sub)"
   ]
  },
  {
   "cell_type": "code",
   "execution_count": 19,
   "metadata": {},
   "outputs": [],
   "source": [
    "indexer = StringIndexer(inputCol='asin',outputCol='asin_idx')\n",
    "indexer_model = indexer.fit(data_indexed)\n",
    "data_indexed = indexer_model.transform(data_indexed)"
   ]
  },
  {
   "cell_type": "code",
   "execution_count": 20,
   "metadata": {},
   "outputs": [
    {
     "name": "stdout",
     "output_type": "stream",
     "text": [
      "+--------------+----------+-------+--------------+--------+\n",
      "|    reviewerID|      asin|overall|reviewerID_idx|asin_idx|\n",
      "+--------------+----------+-------+--------------+--------+\n",
      "|A2HD75EMZR8QLN|0700099867|    1.0|       14118.0|  2339.0|\n",
      "|A3UR8NLLY1ZHCX|0700099867|    4.0|       23077.0|  2339.0|\n",
      "|A1INA0F5CWW3J4|0700099867|    1.0|        8568.0|  2339.0|\n",
      "|A1DLMTOTHQ4AST|0700099867|    3.0|        9219.0|  2339.0|\n",
      "|A361M14PU2GUEG|0700099867|    4.0|         842.0|  2339.0|\n",
      "+--------------+----------+-------+--------------+--------+\n",
      "only showing top 5 rows\n",
      "\n"
     ]
    }
   ],
   "source": [
    "data_indexed.show(5, truncate=True)"
   ]
  },
  {
   "cell_type": "code",
   "execution_count": 21,
   "metadata": {},
   "outputs": [
    {
     "name": "stdout",
     "output_type": "stream",
     "text": [
      "root\n",
      " |-- reviewerID: string (nullable = true)\n",
      " |-- asin: string (nullable = true)\n",
      " |-- overall: double (nullable = true)\n",
      " |-- reviewerID_idx: double (nullable = false)\n",
      " |-- asin_idx: double (nullable = false)\n",
      "\n"
     ]
    }
   ],
   "source": [
    "data_indexed.printSchema()"
   ]
  },
  {
   "cell_type": "code",
   "execution_count": 22,
   "metadata": {},
   "outputs": [
    {
     "data": {
      "text/html": [
       "<div>\n",
       "<style scoped>\n",
       "    .dataframe tbody tr th:only-of-type {\n",
       "        vertical-align: middle;\n",
       "    }\n",
       "\n",
       "    .dataframe tbody tr th {\n",
       "        vertical-align: top;\n",
       "    }\n",
       "\n",
       "    .dataframe thead th {\n",
       "        text-align: right;\n",
       "    }\n",
       "</style>\n",
       "<table border=\"1\" class=\"dataframe\">\n",
       "  <thead>\n",
       "    <tr style=\"text-align: right;\">\n",
       "      <th></th>\n",
       "      <th>0</th>\n",
       "    </tr>\n",
       "  </thead>\n",
       "  <tbody>\n",
       "    <tr>\n",
       "      <th>reviewerID</th>\n",
       "      <td>0</td>\n",
       "    </tr>\n",
       "    <tr>\n",
       "      <th>asin</th>\n",
       "      <td>0</td>\n",
       "    </tr>\n",
       "    <tr>\n",
       "      <th>overall</th>\n",
       "      <td>0</td>\n",
       "    </tr>\n",
       "    <tr>\n",
       "      <th>reviewerID_idx</th>\n",
       "      <td>0</td>\n",
       "    </tr>\n",
       "    <tr>\n",
       "      <th>asin_idx</th>\n",
       "      <td>0</td>\n",
       "    </tr>\n",
       "  </tbody>\n",
       "</table>\n",
       "</div>"
      ],
      "text/plain": [
       "                0\n",
       "reviewerID      0\n",
       "asin            0\n",
       "overall         0\n",
       "reviewerID_idx  0\n",
       "asin_idx        0"
      ]
     },
     "execution_count": 22,
     "metadata": {},
     "output_type": "execute_result"
    }
   ],
   "source": [
    "data_indexed.select([count(when(col(c).isNull(), c)).alias(c) for c in data_indexed.columns]).toPandas().T"
   ]
  },
  {
   "cell_type": "code",
   "execution_count": 24,
   "metadata": {},
   "outputs": [],
   "source": [
    "(training, test) = data_indexed.randomSplit([0.8, 0.2])"
   ]
  },
  {
   "cell_type": "code",
   "execution_count": 25,
   "metadata": {},
   "outputs": [],
   "source": [
    "from pyspark.ml.evaluation import RegressionEvaluator\n",
    "from pyspark.ml.recommendation import ALS\n",
    "from time import time"
   ]
  },
  {
   "cell_type": "code",
   "execution_count": 26,
   "metadata": {},
   "outputs": [],
   "source": [
    "als = ALS(maxIter=10,\n",
    "regParam=0.09,\n",
    "rank = 25,\n",
    "userCol=\"reviewerID_idx\",\n",
    "itemCol=\"asin_idx\",\n",
    "ratingCol=\"overall\",\n",
    "coldStartStrategy=\"drop\",\n",
    "nonnegative=True)\n",
    "model = als.fit(training)"
   ]
  },
  {
   "cell_type": "code",
   "execution_count": 27,
   "metadata": {},
   "outputs": [
    {
     "name": "stdout",
     "output_type": "stream",
     "text": [
      "+--------------+----------+-------+--------------+--------+----------+\n",
      "|    reviewerID|      asin|overall|reviewerID_idx|asin_idx|prediction|\n",
      "+--------------+----------+-------+--------------+--------+----------+\n",
      "|A3M6TSEV71537G|B00BMFIXT2|    4.0|        2156.0|   148.0| 3.5747972|\n",
      "|A27UH9ZPW41B9N|B00BMFIXT2|    3.0|       11059.0|   148.0| 1.8266209|\n",
      "|A1DXS4XEIW98ZR|B00BMFIXT2|    5.0|       10010.0|   148.0| 4.4557986|\n",
      "+--------------+----------+-------+--------------+--------+----------+\n",
      "only showing top 3 rows\n",
      "\n"
     ]
    }
   ],
   "source": [
    "predictions = model.transform(test)\n",
    "predictions.show(3)"
   ]
  },
  {
   "cell_type": "code",
   "execution_count": 28,
   "metadata": {},
   "outputs": [],
   "source": [
    "evaluator = RegressionEvaluator(metricName=\"rmse\",labelCol=\"overall\",predictionCol=\"prediction\")\n",
    "rmse = evaluator.evaluate(predictions)"
   ]
  },
  {
   "cell_type": "code",
   "execution_count": 29,
   "metadata": {},
   "outputs": [
    {
     "data": {
      "text/plain": [
       "1.2147055258616"
      ]
     },
     "execution_count": 29,
     "metadata": {},
     "output_type": "execute_result"
    }
   ],
   "source": [
    "rmse"
   ]
  },
  {
   "cell_type": "code",
   "execution_count": 30,
   "metadata": {},
   "outputs": [
    {
     "name": "stdout",
     "output_type": "stream",
     "text": [
      "+--------------+-----------------------------------------------------------------------------------------------+\n",
      "|reviewerID_idx|recommendations                                                                                |\n",
      "+--------------+-----------------------------------------------------------------------------------------------+\n",
      "|1580          |[[9976, 5.7968745], [8158, 5.7414174], [5678, 5.5667357], [2223, 5.526618], [4408, 5.5217166]] |\n",
      "|4900          |[[5512, 6.133538], [6010, 6.0284367], [4484, 5.922407], [5704, 5.887791], [5518, 5.8752766]]   |\n",
      "|5300          |[[5704, 6.218974], [6010, 5.9132857], [8703, 5.887152], [4484, 5.8721905], [6358, 5.7527514]]  |\n",
      "|6620          |[[5704, 6.538619], [8969, 6.376055], [5512, 6.0152116], [9731, 5.996274], [1715, 5.990055]]    |\n",
      "|7240          |[[5704, 5.7533484], [8969, 5.721592], [2240, 5.4041333], [2550, 5.303724], [9185, 5.300676]]   |\n",
      "|7340          |[[5704, 6.0059805], [8969, 5.9056683], [6358, 5.6819654], [6010, 5.6410317], [5512, 5.5117674]]|\n",
      "|7880          |[[10568, 6.287038], [5704, 6.2267623], [6358, 6.095637], [6010, 6.0276585], [4637, 6.021123]]  |\n",
      "|9900          |[[5704, 6.221719], [10568, 6.013884], [5512, 5.946613], [6358, 5.909041], [8136, 5.899461]]    |\n",
      "|12940         |[[5704, 4.9767895], [9401, 4.777308], [5377, 4.682189], [8969, 4.650826], [5512, 4.647329]]    |\n",
      "|13840         |[[8381, 4.9731765], [8969, 4.9567323], [7907, 4.8219504], [1904, 4.7919235], [6984, 4.7836037]]|\n",
      "+--------------+-----------------------------------------------------------------------------------------------+\n",
      "only showing top 10 rows\n",
      "\n"
     ]
    }
   ],
   "source": [
    "user_recs = model.recommendForAllUsers(5)\n",
    "user_recs.show(10, truncate=False)"
   ]
  },
  {
   "cell_type": "code",
   "execution_count": 31,
   "metadata": {},
   "outputs": [
    {
     "data": {
      "text/plain": [
       "24301"
      ]
     },
     "execution_count": 31,
     "metadata": {},
     "output_type": "execute_result"
    }
   ],
   "source": [
    "user_recs.count()"
   ]
  },
  {
   "cell_type": "code",
   "execution_count": 32,
   "metadata": {},
   "outputs": [
    {
     "name": "stdout",
     "output_type": "stream",
     "text": [
      "Row(reviewerID_idx=1580, recommendations=[Row(asin_idx=9976, rating=5.796874523162842), Row(asin_idx=8158, rating=5.741417407989502), Row(asin_idx=5678, rating=5.566735744476318), Row(asin_idx=2223, rating=5.526618003845215), Row(asin_idx=4408, rating=5.521716594696045)])\n",
      "\n",
      "\n",
      "Row(reviewerID_idx=4900, recommendations=[Row(asin_idx=5512, rating=6.133537769317627), Row(asin_idx=6010, rating=6.028436660766602), Row(asin_idx=4484, rating=5.922407150268555), Row(asin_idx=5704, rating=5.887791156768799), Row(asin_idx=5518, rating=5.875276565551758)])\n",
      "\n",
      "\n",
      "Row(reviewerID_idx=5300, recommendations=[Row(asin_idx=5704, rating=6.2189741134643555), Row(asin_idx=6010, rating=5.913285732269287), Row(asin_idx=8703, rating=5.887152194976807), Row(asin_idx=4484, rating=5.872190475463867), Row(asin_idx=6358, rating=5.752751350402832)])\n",
      "\n",
      "\n",
      "Row(reviewerID_idx=6620, recommendations=[Row(asin_idx=5704, rating=6.538619041442871), Row(asin_idx=8969, rating=6.376054763793945), Row(asin_idx=5512, rating=6.015211582183838), Row(asin_idx=9731, rating=5.996273994445801), Row(asin_idx=1715, rating=5.990055084228516)])\n",
      "\n",
      "\n",
      "Row(reviewerID_idx=7240, recommendations=[Row(asin_idx=5704, rating=5.753348350524902), Row(asin_idx=8969, rating=5.721591949462891), Row(asin_idx=2240, rating=5.404133319854736), Row(asin_idx=2550, rating=5.3037238121032715), Row(asin_idx=9185, rating=5.300675868988037)])\n",
      "\n",
      "\n"
     ]
    }
   ],
   "source": [
    "for user in user_recs.head(5):\n",
    "    print(user)\n",
    "    print(\"\\n\")"
   ]
  },
  {
   "cell_type": "code",
   "execution_count": 33,
   "metadata": {},
   "outputs": [
    {
     "name": "stdout",
     "output_type": "stream",
     "text": [
      "+--------------+--------------+\n",
      "|reviewerID_idx|    reviewerID|\n",
      "+--------------+--------------+\n",
      "|        7209.0|A293BVHBY4TIKH|\n",
      "|         572.0|A3GNL2F86PUZZ6|\n",
      "|       10974.0|A33CP5BH4D23Q1|\n",
      "|        3516.0| ATOSQVSOA3D8Q|\n",
      "|         823.0| AKFE1P1ZDBPXU|\n",
      "+--------------+--------------+\n",
      "only showing top 5 rows\n",
      "\n"
     ]
    }
   ],
   "source": [
    "df_reviewer_reviewer_id = data_indexed.select('reviewerID_idx', 'reviewerID').distinct()\n",
    "df_reviewer_reviewer_id.show(5)"
   ]
  },
  {
   "cell_type": "code",
   "execution_count": 34,
   "metadata": {},
   "outputs": [
    {
     "name": "stdout",
     "output_type": "stream",
     "text": [
      "+--------+----------+\n",
      "|asin_idx|      asin|\n",
      "+--------+----------+\n",
      "|  4763.0|B00000I1BE|\n",
      "|  9133.0|B000023VUP|\n",
      "|  6268.0|B00002STYU|\n",
      "|  9760.0|B000035XKY|\n",
      "|  8283.0|B000035Y34|\n",
      "+--------+----------+\n",
      "only showing top 5 rows\n",
      "\n"
     ]
    }
   ],
   "source": [
    "df_asin_asin_idx = data_indexed.select('asin_idx', 'asin').distinct()\n",
    "df_asin_asin_idx.show(5)"
   ]
  },
  {
   "cell_type": "code",
   "execution_count": 35,
   "metadata": {},
   "outputs": [
    {
     "name": "stdout",
     "output_type": "stream",
     "text": [
      "+--------------+-----------------------------------------------------------------------------------------------+--------------+\n",
      "|reviewerID_idx|recommendations                                                                                |reviewerID    |\n",
      "+--------------+-----------------------------------------------------------------------------------------------+--------------+\n",
      "|299           |[[5512, 6.896354], [8136, 6.5573545], [5704, 6.4178348], [8595, 6.3042483], [6358, 6.263135]]  |A357A1TI51VT1S|\n",
      "|305           |[[5704, 6.740913], [9454, 6.645791], [8350, 6.638547], [8381, 6.5724926], [9675, 6.5681686]]   |A3V7F58M4ZXHIF|\n",
      "|496           |[[8969, 5.545949], [8136, 5.276003], [5704, 5.2446284], [5377, 5.232302], [6358, 5.187225]]    |AUQQVMBVBOWL1 |\n",
      "|558           |[[5704, 6.4668045], [5512, 6.39896], [3828, 6.19144], [8136, 6.151276], [6358, 6.0829864]]     |A2IF5C0I5BH11F|\n",
      "|596           |[[5704, 6.7759337], [5512, 6.5030046], [8136, 6.3157387], [6358, 6.3061786], [6010, 6.297885]] |A3191FPO3I7RX7|\n",
      "|692           |[[4221, 4.916865], [8713, 4.844337], [5258, 4.8346877], [5325, 4.830096], [343, 4.761406]]     |A21Z0377YERLCH|\n",
      "|769           |[[5512, 6.500648], [8381, 6.486323], [6619, 6.3705907], [8136, 6.334301], [5704, 6.330896]]    |A3SMO4R9IN85NX|\n",
      "|934           |[[8969, 6.0396414], [5704, 5.8845186], [2430, 5.7016506], [4659, 5.4198155], [9976, 5.4109054]]|A2AFK6HMAEFO4N|\n",
      "|1051          |[[8969, 6.0775433], [5704, 6.0058236], [5512, 5.8020163], [2999, 5.682538], [8350, 5.630253]]  |A3VIKS0DB6M2V1|\n",
      "|1761          |[[8969, 6.245246], [5704, 5.8837204], [3345, 5.6070194], [3738, 5.462468], [6358, 5.380542]]   |A1QWINPL3C5O4Y|\n",
      "+--------------+-----------------------------------------------------------------------------------------------+--------------+\n",
      "only showing top 10 rows\n",
      "\n"
     ]
    }
   ],
   "source": [
    "new_user_recs = user_recs.join(df_reviewer_reviewer_id, on=['reviewerID_idx'], how='left')\n",
    "new_user_recs.show(10, truncate=False)"
   ]
  },
  {
   "cell_type": "code",
   "execution_count": 36,
   "metadata": {},
   "outputs": [],
   "source": [
    "new_user_recs.write.parquet('U.parquet', mode='overwrite')\n",
    "df_asin_asin_idx.write.parquet('P.parquet', mode='overwrite')"
   ]
  },
  {
   "cell_type": "code",
   "execution_count": 37,
   "metadata": {},
   "outputs": [
    {
     "name": "stdout",
     "output_type": "stream",
     "text": [
      "root\n",
      " |-- reviewerID_idx: integer (nullable = true)\n",
      " |-- recommendations: array (nullable = true)\n",
      " |    |-- element: struct (containsNull = true)\n",
      " |    |    |-- asin_idx: integer (nullable = true)\n",
      " |    |    |-- rating: float (nullable = true)\n",
      " |-- reviewerID: string (nullable = true)\n",
      "\n"
     ]
    }
   ],
   "source": [
    "new_user_recs = spark.read.parquet('U.parquet')\n",
    "new_user_recs.printSchema()"
   ]
  },
  {
   "cell_type": "code",
   "execution_count": 38,
   "metadata": {},
   "outputs": [
    {
     "name": "stdout",
     "output_type": "stream",
     "text": [
      "+--------------+--------------------+--------------+\n",
      "|reviewerID_idx|     recommendations|    reviewerID|\n",
      "+--------------+--------------------+--------------+\n",
      "|           322|[[4728, 5.848777]...|A2G44NES0MQOAC|\n",
      "|           417|[[6010, 5.440516]...|A14NA0W8ESGDSI|\n",
      "+--------------+--------------------+--------------+\n",
      "only showing top 2 rows\n",
      "\n"
     ]
    }
   ],
   "source": [
    "new_user_recs.show(2)"
   ]
  },
  {
   "cell_type": "code",
   "execution_count": 39,
   "metadata": {},
   "outputs": [
    {
     "name": "stdout",
     "output_type": "stream",
     "text": [
      "root\n",
      " |-- asin_idx: double (nullable = true)\n",
      " |-- asin: string (nullable = true)\n",
      "\n"
     ]
    }
   ],
   "source": [
    "df_asin_asin_idx = spark.read.parquet('P.parquet')\n",
    "df_asin_asin_idx.printSchema()"
   ]
  },
  {
   "cell_type": "code",
   "execution_count": 40,
   "metadata": {},
   "outputs": [
    {
     "name": "stdout",
     "output_type": "stream",
     "text": [
      "+--------+----------+\n",
      "|asin_idx|      asin|\n",
      "+--------+----------+\n",
      "|  2619.0|9625990674|\n",
      "|  7663.0|B00000I1BZ|\n",
      "+--------+----------+\n",
      "only showing top 2 rows\n",
      "\n"
     ]
    }
   ],
   "source": [
    "df_asin_asin_idx.show(2)"
   ]
  },
  {
   "cell_type": "code",
   "execution_count": 41,
   "metadata": {},
   "outputs": [],
   "source": [
    "customers = ['A29KT7UP7DLM1J',  'A1WGVOVABHFDF3', 'A3DIS5O83SQJWW']"
   ]
  },
  {
   "cell_type": "code",
   "execution_count": 42,
   "metadata": {},
   "outputs": [
    {
     "name": "stdout",
     "output_type": "stream",
     "text": [
      "+--------------+----------------------------------------------------------------------------------------------+--------------+\n",
      "|reviewerID_idx|recommendations                                                                               |reviewerID    |\n",
      "+--------------+----------------------------------------------------------------------------------------------+--------------+\n",
      "|4706          |[[6358, 4.6549654], [7933, 4.6307373], [7913, 4.5054855], [5512, 4.4796753], [262, 4.4604006]]|A29KT7UP7DLM1J|\n",
      "+--------------+----------------------------------------------------------------------------------------------+--------------+\n",
      "\n",
      "Row(asin_idx=6358, rating=4.654965400695801)\n",
      "\n",
      "\n",
      "Row(asin_idx=7933, rating=4.6307373046875)\n",
      "\n",
      "\n",
      "Row(asin_idx=7913, rating=4.505485534667969)\n",
      "\n",
      "\n",
      "Row(asin_idx=5512, rating=4.47967529296875)\n",
      "\n",
      "\n",
      "Row(asin_idx=262, rating=4.460400581359863)\n",
      "\n",
      "\n",
      "Recommendation for:  A29KT7UP7DLM1J\n",
      "{'reviewerID': 'A29KT7UP7DLM1J', 'recommendations': [(6358, 'B005PI17AY', 4.654965400695801), (7933, 'B00012FN9U', 4.6307373046875), (7913, 'B008ADNNZ8', 4.505485534667969), (5512, 'B0049LPV7S', 4.47967529296875), (262, 'B001VJ4DHK', 4.460400581359863)]}\n",
      "\n",
      "\n",
      "+--------------+------------------------------------------------------------------------------------------------+--------------+\n",
      "|reviewerID_idx|recommendations                                                                                 |reviewerID    |\n",
      "+--------------+------------------------------------------------------------------------------------------------+--------------+\n",
      "|6301          |[[10568, 5.7243667], [6162, 5.5371423], [2550, 5.5218973], [7907, 5.5218334], [5704, 5.4085617]]|A1WGVOVABHFDF3|\n",
      "+--------------+------------------------------------------------------------------------------------------------+--------------+\n",
      "\n",
      "Row(asin_idx=10568, rating=5.724366664886475)\n",
      "\n",
      "\n",
      "Row(asin_idx=6162, rating=5.537142276763916)\n",
      "\n",
      "\n",
      "Row(asin_idx=2550, rating=5.521897315979004)\n",
      "\n",
      "\n",
      "Row(asin_idx=7907, rating=5.521833419799805)\n",
      "\n",
      "\n",
      "Row(asin_idx=5704, rating=5.408561706542969)\n",
      "\n",
      "\n",
      "Recommendation for:  A1WGVOVABHFDF3\n",
      "{'reviewerID': 'A1WGVOVABHFDF3', 'recommendations': [(10568, 'B003TV4ANA', 5.724366664886475), (6162, 'B009VURIUA', 5.537142276763916), (2550, 'B006W41WF0', 5.521897315979004), (7907, 'B0017WOBUK', 5.521833419799805), (5704, 'B00AYABXCK', 5.408561706542969)]}\n",
      "\n",
      "\n",
      "+--------------+---------------------------------------------------------------------------------------------+--------------+\n",
      "|reviewerID_idx|recommendations                                                                              |reviewerID    |\n",
      "+--------------+---------------------------------------------------------------------------------------------+--------------+\n",
      "|801           |[[5377, 5.5714126], [5704, 5.497796], [10524, 5.4398265], [4728, 5.43572], [8350, 5.3902836]]|A3DIS5O83SQJWW|\n",
      "+--------------+---------------------------------------------------------------------------------------------+--------------+\n",
      "\n",
      "Row(asin_idx=5377, rating=5.571412563323975)\n",
      "\n",
      "\n",
      "Row(asin_idx=5704, rating=5.497796058654785)\n",
      "\n",
      "\n",
      "Row(asin_idx=10524, rating=5.439826488494873)\n",
      "\n",
      "\n",
      "Row(asin_idx=4728, rating=5.435719966888428)\n",
      "\n",
      "\n",
      "Row(asin_idx=8350, rating=5.390283584594727)\n",
      "\n",
      "\n",
      "Recommendation for:  A3DIS5O83SQJWW\n",
      "{'reviewerID': 'A3DIS5O83SQJWW', 'recommendations': [(5377, 'B002OOUQOK', 5.571412563323975), (5704, 'B00AYABXCK', 5.497796058654785), (10524, 'B0028ACZA8', 5.439826488494873), (4728, 'B003U3VSG4', 5.435719966888428), (8350, 'B002MUB0XM', 5.390283584594727)]}\n",
      "\n",
      "\n"
     ]
    }
   ],
   "source": [
    "for i in customers:\n",
    "    find_user_rec = new_user_recs.filter(new_user_recs['reviewerID'] == i)\n",
    "    find_user_rec.show(truncate=False)\n",
    "    result = ''\n",
    "    for user in find_user_rec.collect():\n",
    "        lst = []\n",
    "        for row in user['recommendations']:\n",
    "            print(row)\n",
    "            print('\\n')\n",
    "            row_f = df_asin_asin_idx.filter(df_asin_asin_idx.asin_idx == row['asin_idx'])\n",
    "            row_f_first = row_f.first()\n",
    "            lst.append((row['asin_idx'], row_f_first['asin'], row['rating']))\n",
    "        dic_user_rec = {'reviewerID' : user.reviewerID, 'recommendations' :lst}\n",
    "        result = dic_user_rec\n",
    "    print(\"Recommendation for: \", i)\n",
    "    print(result)\n",
    "    print('\\n')"
   ]
  },
  {
   "cell_type": "code",
   "execution_count": null,
   "metadata": {},
   "outputs": [],
   "source": []
  }
 ],
 "metadata": {
  "kernelspec": {
   "display_name": "Python 3",
   "language": "python",
   "name": "python3"
  },
  "language_info": {
   "codemirror_mode": {
    "name": "ipython",
    "version": 3
   },
   "file_extension": ".py",
   "mimetype": "text/x-python",
   "name": "python",
   "nbconvert_exporter": "python",
   "pygments_lexer": "ipython3",
   "version": "3.6.8"
  }
 },
 "nbformat": 4,
 "nbformat_minor": 4
}
