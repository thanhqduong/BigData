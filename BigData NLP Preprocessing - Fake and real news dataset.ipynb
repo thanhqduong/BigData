{
 "cells": [
  {
   "cell_type": "code",
   "execution_count": 1,
   "metadata": {},
   "outputs": [],
   "source": [
    "import findspark\n",
    "findspark.init()"
   ]
  },
  {
   "cell_type": "code",
   "execution_count": 2,
   "metadata": {},
   "outputs": [],
   "source": [
    "# import libraries\n",
    "from pyspark import SparkContext\n",
    "from pyspark.conf import SparkConf\n",
    "from pyspark.sql import SparkSession\n",
    "import matplotlib.pyplot as plt\n",
    "import seaborn as sns\n",
    "from scipy import stats\n",
    "from datetime import datetime\n",
    "from pyspark.sql.functions import mean, stddev, col, log\n",
    "from pyspark.sql.functions import to_date, dayofweek, to_timestamp\n",
    "from pyspark.sql import types \n",
    "from pyspark.sql.functions import col, udf\n",
    "from pyspark.sql.types import DateType\n",
    "from pyspark.sql.functions import year, month\n",
    "from pyspark.sql.functions import dayofmonth, weekofyear\n",
    "from pyspark.sql.functions import split, explode\n",
    "from pyspark.sql.functions import coalesce, first, lit\n",
    "from pyspark.ml.feature import Binarizer\n",
    "from pyspark.ml.feature import Bucketizer\n",
    "from pyspark.ml.feature import OneHotEncoder, StringIndexer, OneHotEncoderEstimator\n",
    "from pyspark.sql.functions import regexp_extract, col\n",
    "from pyspark.sql.functions import datediff\n",
    "from pyspark.sql.functions import when\n",
    "\n",
    "from pyspark.ml.linalg import Vectors\n",
    "from pyspark.ml.feature import VectorAssembler\n",
    "from pyspark.ml.regression import LinearRegression\n",
    "from pyspark.ml.regression import LinearRegressionModel\n",
    "from pyspark.ml import Pipeline\n",
    "from pyspark.ml.evaluation import BinaryClassificationEvaluator\n",
    "from pyspark.ml.classification import LogisticRegression\n",
    "from pyspark.ml.classification import DecisionTreeClassifier\n",
    "from pyspark.ml.classification import GBTClassifier, RandomForestClassifier\n",
    "from pyspark.ml.evaluation import MulticlassClassificationEvaluator\n",
    "from pyspark.mllib.evaluation import MulticlassMetrics\n",
    "from pyspark.sql.functions import *\n",
    "from pyspark.sql.types import *\n",
    "import pandas as pd\n",
    "from pyspark.sql.types import *\n",
    "from pyspark.ml.feature import Tokenizer, StopWordsRemover\n",
    "from pyspark.ml.feature import CountVectorizer, IDF, StringIndexer\n",
    "from pyspark.ml.classification import NaiveBayes"
   ]
  },
  {
   "cell_type": "code",
   "execution_count": 3,
   "metadata": {},
   "outputs": [],
   "source": [
    "spark = SparkSession.builder.appName('news').getOrCreate()"
   ]
  },
  {
   "cell_type": "code",
   "execution_count": 4,
   "metadata": {},
   "outputs": [
    {
     "name": "stdout",
     "output_type": "stream",
     "text": [
      "+--------------------+--------------------+-------+-----------------+\n",
      "|               title|                text|subject|             date|\n",
      "+--------------------+--------------------+-------+-----------------+\n",
      "| Donald Trump Sen...|Donald Trump just...|   News|December 31, 2017|\n",
      "| Drunk Bragging T...|House Intelligenc...|   News|December 31, 2017|\n",
      "| Sheriff David Cl...|On Friday, it was...|   News|December 30, 2017|\n",
      "| Trump Is So Obse...|On Christmas day,...|   News|December 29, 2017|\n",
      "| Pope Francis Jus...|Pope Francis used...|   News|December 25, 2017|\n",
      "+--------------------+--------------------+-------+-----------------+\n",
      "only showing top 5 rows\n",
      "\n"
     ]
    }
   ],
   "source": [
    "dfFake = spark.read.csv('Fake.csv', header= True, inferSchema=True)\n",
    "dfFake.show(5)"
   ]
  },
  {
   "cell_type": "code",
   "execution_count": 5,
   "metadata": {},
   "outputs": [
    {
     "name": "stdout",
     "output_type": "stream",
     "text": [
      "+--------------------+--------------------+------------+------------------+\n",
      "|               title|                text|     subject|              date|\n",
      "+--------------------+--------------------+------------+------------------+\n",
      "|As U.S. budget fi...|WASHINGTON (Reute...|politicsNews|December 31, 2017 |\n",
      "|U.S. military to ...|WASHINGTON (Reute...|politicsNews|December 29, 2017 |\n",
      "|Senior U.S. Repub...|WASHINGTON (Reute...|politicsNews|December 31, 2017 |\n",
      "|FBI Russia probe ...|WASHINGTON (Reute...|politicsNews|December 30, 2017 |\n",
      "|Trump wants Posta...|SEATTLE/WASHINGTO...|politicsNews|December 29, 2017 |\n",
      "+--------------------+--------------------+------------+------------------+\n",
      "only showing top 5 rows\n",
      "\n"
     ]
    }
   ],
   "source": [
    "dfTrue = spark.read.csv('True.csv', header= True, inferSchema=True)\n",
    "dfTrue.show(5)"
   ]
  },
  {
   "cell_type": "markdown",
   "metadata": {},
   "source": [
    "##### Có thể drop cột date do không ảnh hưởng đến model"
   ]
  },
  {
   "cell_type": "code",
   "execution_count": 6,
   "metadata": {},
   "outputs": [],
   "source": [
    "dfFake = dfFake.drop('date')\n",
    "dfTrue = dfTrue.drop('date')"
   ]
  },
  {
   "cell_type": "code",
   "execution_count": 7,
   "metadata": {},
   "outputs": [
    {
     "data": {
      "text/plain": [
       "23489"
      ]
     },
     "execution_count": 7,
     "metadata": {},
     "output_type": "execute_result"
    }
   ],
   "source": [
    "dfFake.count()"
   ]
  },
  {
   "cell_type": "code",
   "execution_count": 8,
   "metadata": {},
   "outputs": [
    {
     "data": {
      "text/plain": [
       "21417"
      ]
     },
     "execution_count": 8,
     "metadata": {},
     "output_type": "execute_result"
    }
   ],
   "source": [
    "dfTrue.count()"
   ]
  },
  {
   "cell_type": "markdown",
   "metadata": {},
   "source": [
    "##### Dữ liệu khá cân bằng"
   ]
  },
  {
   "cell_type": "code",
   "execution_count": 9,
   "metadata": {},
   "outputs": [
    {
     "name": "stdout",
     "output_type": "stream",
     "text": [
      "root\n",
      " |-- title: string (nullable = true)\n",
      " |-- text: string (nullable = true)\n",
      " |-- subject: string (nullable = true)\n",
      "\n",
      "root\n",
      " |-- title: string (nullable = true)\n",
      " |-- text: string (nullable = true)\n",
      " |-- subject: string (nullable = true)\n",
      "\n"
     ]
    },
    {
     "data": {
      "text/plain": [
       "None"
      ]
     },
     "metadata": {},
     "output_type": "display_data"
    },
    {
     "data": {
      "text/plain": [
       "None"
      ]
     },
     "metadata": {},
     "output_type": "display_data"
    }
   ],
   "source": [
    "display(dfFake.printSchema(), dfTrue.printSchema())"
   ]
  },
  {
   "cell_type": "markdown",
   "metadata": {},
   "source": [
    "##### Trước khi merge dữ liệu cần tạo 2 cột classifications label"
   ]
  },
  {
   "cell_type": "code",
   "execution_count": 10,
   "metadata": {},
   "outputs": [
    {
     "name": "stdout",
     "output_type": "stream",
     "text": [
      "+--------------------+--------------------+-------+--------------+\n",
      "|               title|                text|subject|classification|\n",
      "+--------------------+--------------------+-------+--------------+\n",
      "| Donald Trump Sen...|Donald Trump just...|   News|          Fake|\n",
      "| Drunk Bragging T...|House Intelligenc...|   News|          Fake|\n",
      "| Sheriff David Cl...|On Friday, it was...|   News|          Fake|\n",
      "| Trump Is So Obse...|On Christmas day,...|   News|          Fake|\n",
      "| Pope Francis Jus...|Pope Francis used...|   News|          Fake|\n",
      "| Racist Alabama C...|The number of cas...|   News|          Fake|\n",
      "| Fresh Off The Go...|Donald Trump spen...|   News|          Fake|\n",
      "| Trump Said Some ...|In the wake of ye...|   News|          Fake|\n",
      "| Former CIA Direc...|Many people have ...|   News|          Fake|\n",
      "| WATCH: Brand-New...|Just when you mig...|   News|          Fake|\n",
      "| Papa John’s Foun...|A centerpiece of ...|   News|          Fake|\n",
      "| WATCH: Paul Ryan...|Republicans are w...|   News|          Fake|\n",
      "| Bad News For Tru...|Republicans have ...|   News|          Fake|\n",
      "| WATCH: Lindsey G...|The media has bee...|   News|          Fake|\n",
      "| Heiress To Disne...|Abigail Disney is...|   News|          Fake|\n",
      "| Tone Deaf Trump:...|Donald Trump just...|   News|          Fake|\n",
      "| The Internet Bru...|A new animatronic...|   News|          Fake|\n",
      "| Mueller Spokesma...|Trump supporters ...|   News|          Fake|\n",
      "| SNL Hilariously ...|Right now, the wh...|   News|          Fake|\n",
      "| Republican Senat...|Senate Majority W...|   News|          Fake|\n",
      "+--------------------+--------------------+-------+--------------+\n",
      "only showing top 20 rows\n",
      "\n"
     ]
    }
   ],
   "source": [
    "from pyspark.sql.functions import lit\n",
    "dfFake = dfFake.withColumn('classification', lit('Fake'))\n",
    "dfFake.show()"
   ]
  },
  {
   "cell_type": "code",
   "execution_count": 11,
   "metadata": {},
   "outputs": [
    {
     "name": "stdout",
     "output_type": "stream",
     "text": [
      "+--------------------+--------------------+--------------------+--------------+\n",
      "|               title|                text|             subject|classification|\n",
      "+--------------------+--------------------+--------------------+--------------+\n",
      "|As U.S. budget fi...|WASHINGTON (Reute...|        politicsNews|          True|\n",
      "|U.S. military to ...|WASHINGTON (Reute...|        politicsNews|          True|\n",
      "|Senior U.S. Repub...|WASHINGTON (Reute...|        politicsNews|          True|\n",
      "|FBI Russia probe ...|WASHINGTON (Reute...|        politicsNews|          True|\n",
      "|Trump wants Posta...|SEATTLE/WASHINGTO...|        politicsNews|          True|\n",
      "|White House, Cong...|WEST PALM BEACH, ...|        politicsNews|          True|\n",
      "|Trump says Russia...|WEST PALM BEACH, ...|        politicsNews|          True|\n",
      "|Factbox: Trump on...|The following sta...|        politicsNews|          True|\n",
      "|Trump on Twitter ...|The following sta...|        politicsNews|          True|\n",
      "|Alabama official ...|WASHINGTON (Reute...|        politicsNews|          True|\n",
      "|Jones certified U...|(Reuters) - Alaba...|        politicsNews|          True|\n",
      "|New York governor...|NEW YORK/WASHINGT...|        politicsNews|          True|\n",
      "|Factbox: Trump on...|The following sta...|        politicsNews|          True|\n",
      "|Trump on Twitter ...|\"The following st...| Associates Up 83...|          True|\n",
      "|Man says he deliv...| (In Dec. 25 stor...|        politicsNews|          True|\n",
      "|Virginia official...|(Reuters) - A lot...|        politicsNews|          True|\n",
      "|U.S. lawmakers qu...|WASHINGTON (Reute...|        politicsNews|          True|\n",
      "|Trump on Twitter ...|The following sta...|        politicsNews|          True|\n",
      "|U.S. appeals cour...|(Reuters) - A U.S...|        politicsNews|          True|\n",
      "|Treasury Secretar...|(Reuters) - A gif...|        politicsNews|          True|\n",
      "+--------------------+--------------------+--------------------+--------------+\n",
      "only showing top 20 rows\n",
      "\n"
     ]
    }
   ],
   "source": [
    "dfTrue = dfTrue.withColumn('classification', lit('True'))\n",
    "dfTrue.show()"
   ]
  },
  {
   "cell_type": "code",
   "execution_count": 12,
   "metadata": {},
   "outputs": [
    {
     "name": "stdout",
     "output_type": "stream",
     "text": [
      "+--------------------+--------------------+-------+--------------+\n",
      "|               title|                text|subject|classification|\n",
      "+--------------------+--------------------+-------+--------------+\n",
      "| Donald Trump Sen...|Donald Trump just...|   News|          Fake|\n",
      "| Drunk Bragging T...|House Intelligenc...|   News|          Fake|\n",
      "| Sheriff David Cl...|On Friday, it was...|   News|          Fake|\n",
      "| Trump Is So Obse...|On Christmas day,...|   News|          Fake|\n",
      "| Pope Francis Jus...|Pope Francis used...|   News|          Fake|\n",
      "| Racist Alabama C...|The number of cas...|   News|          Fake|\n",
      "| Fresh Off The Go...|Donald Trump spen...|   News|          Fake|\n",
      "| Trump Said Some ...|In the wake of ye...|   News|          Fake|\n",
      "| Former CIA Direc...|Many people have ...|   News|          Fake|\n",
      "| WATCH: Brand-New...|Just when you mig...|   News|          Fake|\n",
      "| Papa John’s Foun...|A centerpiece of ...|   News|          Fake|\n",
      "| WATCH: Paul Ryan...|Republicans are w...|   News|          Fake|\n",
      "| Bad News For Tru...|Republicans have ...|   News|          Fake|\n",
      "| WATCH: Lindsey G...|The media has bee...|   News|          Fake|\n",
      "| Heiress To Disne...|Abigail Disney is...|   News|          Fake|\n",
      "| Tone Deaf Trump:...|Donald Trump just...|   News|          Fake|\n",
      "| The Internet Bru...|A new animatronic...|   News|          Fake|\n",
      "| Mueller Spokesma...|Trump supporters ...|   News|          Fake|\n",
      "| SNL Hilariously ...|Right now, the wh...|   News|          Fake|\n",
      "| Republican Senat...|Senate Majority W...|   News|          Fake|\n",
      "+--------------------+--------------------+-------+--------------+\n",
      "only showing top 20 rows\n",
      "\n"
     ]
    }
   ],
   "source": [
    "df = dfFake.union(dfTrue)\n",
    "df.show()"
   ]
  },
  {
   "cell_type": "code",
   "execution_count": 13,
   "metadata": {},
   "outputs": [
    {
     "data": {
      "text/plain": [
       "44906"
      ]
     },
     "execution_count": 13,
     "metadata": {},
     "output_type": "execute_result"
    }
   ],
   "source": [
    "df.count()"
   ]
  },
  {
   "cell_type": "code",
   "execution_count": 14,
   "metadata": {},
   "outputs": [
    {
     "data": {
      "text/html": [
       "<div>\n",
       "<style scoped>\n",
       "    .dataframe tbody tr th:only-of-type {\n",
       "        vertical-align: middle;\n",
       "    }\n",
       "\n",
       "    .dataframe tbody tr th {\n",
       "        vertical-align: top;\n",
       "    }\n",
       "\n",
       "    .dataframe thead th {\n",
       "        text-align: right;\n",
       "    }\n",
       "</style>\n",
       "<table border=\"1\" class=\"dataframe\">\n",
       "  <thead>\n",
       "    <tr style=\"text-align: right;\">\n",
       "      <th></th>\n",
       "      <th>0</th>\n",
       "    </tr>\n",
       "  </thead>\n",
       "  <tbody>\n",
       "    <tr>\n",
       "      <th>title</th>\n",
       "      <td>0</td>\n",
       "    </tr>\n",
       "    <tr>\n",
       "      <th>text</th>\n",
       "      <td>0</td>\n",
       "    </tr>\n",
       "    <tr>\n",
       "      <th>subject</th>\n",
       "      <td>0</td>\n",
       "    </tr>\n",
       "    <tr>\n",
       "      <th>classification</th>\n",
       "      <td>0</td>\n",
       "    </tr>\n",
       "  </tbody>\n",
       "</table>\n",
       "</div>"
      ],
      "text/plain": [
       "                0\n",
       "title           0\n",
       "text            0\n",
       "subject         0\n",
       "classification  0"
      ]
     },
     "execution_count": 14,
     "metadata": {},
     "output_type": "execute_result"
    }
   ],
   "source": [
    "df.select([count(when(isnan(c), c)).alias(c) for c in df.columns]).toPandas().T"
   ]
  },
  {
   "cell_type": "markdown",
   "metadata": {},
   "source": [
    "##### Không có dữ liệu NaN"
   ]
  },
  {
   "cell_type": "code",
   "execution_count": 15,
   "metadata": {},
   "outputs": [
    {
     "data": {
      "text/html": [
       "<div>\n",
       "<style scoped>\n",
       "    .dataframe tbody tr th:only-of-type {\n",
       "        vertical-align: middle;\n",
       "    }\n",
       "\n",
       "    .dataframe tbody tr th {\n",
       "        vertical-align: top;\n",
       "    }\n",
       "\n",
       "    .dataframe thead th {\n",
       "        text-align: right;\n",
       "    }\n",
       "</style>\n",
       "<table border=\"1\" class=\"dataframe\">\n",
       "  <thead>\n",
       "    <tr style=\"text-align: right;\">\n",
       "      <th></th>\n",
       "      <th>0</th>\n",
       "    </tr>\n",
       "  </thead>\n",
       "  <tbody>\n",
       "    <tr>\n",
       "      <th>title</th>\n",
       "      <td>0</td>\n",
       "    </tr>\n",
       "    <tr>\n",
       "      <th>text</th>\n",
       "      <td>8</td>\n",
       "    </tr>\n",
       "    <tr>\n",
       "      <th>subject</th>\n",
       "      <td>8</td>\n",
       "    </tr>\n",
       "    <tr>\n",
       "      <th>classification</th>\n",
       "      <td>0</td>\n",
       "    </tr>\n",
       "  </tbody>\n",
       "</table>\n",
       "</div>"
      ],
      "text/plain": [
       "                0\n",
       "title           0\n",
       "text            8\n",
       "subject         8\n",
       "classification  0"
      ]
     },
     "execution_count": 15,
     "metadata": {},
     "output_type": "execute_result"
    }
   ],
   "source": [
    "df.select([count(when(isnull(c), c)).alias(c) for c in df.columns]).toPandas().T"
   ]
  },
  {
   "cell_type": "markdown",
   "metadata": {},
   "source": [
    "##### Có rất ít dữ liệu null => xóa các cột null"
   ]
  },
  {
   "cell_type": "code",
   "execution_count": 16,
   "metadata": {},
   "outputs": [
    {
     "data": {
      "text/plain": [
       "44898"
      ]
     },
     "execution_count": 16,
     "metadata": {},
     "output_type": "execute_result"
    }
   ],
   "source": [
    "df = df.dropna()\n",
    "df.count()"
   ]
  },
  {
   "cell_type": "code",
   "execution_count": 17,
   "metadata": {},
   "outputs": [
    {
     "data": {
      "text/plain": [
       "823"
      ]
     },
     "execution_count": 17,
     "metadata": {},
     "output_type": "execute_result"
    }
   ],
   "source": [
    "df.crosstab('subject', 'classification').count()"
   ]
  },
  {
   "cell_type": "code",
   "execution_count": 18,
   "metadata": {},
   "outputs": [
    {
     "name": "stdout",
     "output_type": "stream",
     "text": [
      "+----------------------+----+----+\n",
      "|subject_classification|Fake|True|\n",
      "+----------------------+----+----+\n",
      "|   fellow members t...|   1|   0|\n",
      "|   2016Proud to see...|   1|   0|\n",
      "|   2017Watch:This i...|   1|   0|\n",
      "|  \"\" @TedCruz? Hard...|   1|   0|\n",
      "|   2016People quick...|   1|   0|\n",
      "|   \"\"regret\"\" or \"\"...|   1|   0|\n",
      "|   2015And the runn...|   3|   0|\n",
      "|   2017Pathetic exc...|   1|   0|\n",
      "|        if implemented|   0|   1|\n",
      "|   2016Here s the v...|   2|   0|\n",
      "|   2016Kaine s stat...|   1|   0|\n",
      "|   Don't shoot lie....|   2|   0|\n",
      "|   according to an ...|   0|   1|\n",
      "|   matters related ...|   0|   1|\n",
      "|   but I'm tired of...|   2|   0|\n",
      "|  \"\" a Chuck Schume...|   1|   0|\n",
      "|   2017Featured ima...|   1|   0|\n",
      "|   2016Rigged! @goo...|   1|   0|\n",
      "|  \"\" and has said h...|   0|   1|\n",
      "|   when does \"\"art\"...|   1|   0|\n",
      "+----------------------+----+----+\n",
      "only showing top 20 rows\n",
      "\n"
     ]
    }
   ],
   "source": [
    "df.crosstab('subject', 'classification').show()"
   ]
  },
  {
   "cell_type": "code",
   "execution_count": 19,
   "metadata": {},
   "outputs": [
    {
     "data": {
      "text/plain": [
       "474"
      ]
     },
     "execution_count": 19,
     "metadata": {},
     "output_type": "execute_result"
    }
   ],
   "source": [
    "df.count() - df.distinct().count()"
   ]
  },
  {
   "cell_type": "code",
   "execution_count": 20,
   "metadata": {},
   "outputs": [
    {
     "data": {
      "text/plain": [
       "44424"
      ]
     },
     "execution_count": 20,
     "metadata": {},
     "output_type": "execute_result"
    }
   ],
   "source": [
    "df = df.dropDuplicates()\n",
    "df.count()"
   ]
  },
  {
   "cell_type": "markdown",
   "metadata": {},
   "source": [
    "##### Có thể sử dụng subject làm 1 feature"
   ]
  },
  {
   "cell_type": "code",
   "execution_count": 21,
   "metadata": {},
   "outputs": [],
   "source": [
    "token1 = Tokenizer(inputCol = 'title', outputCol = 'token_text1')\n",
    "swremove1 = StopWordsRemover(inputCol = 'token_text1', outputCol = 'stop_tokens1')\n",
    "count_vec1 = CountVectorizer(inputCol = 'stop_tokens1', outputCol = 'c_vec1')\n",
    "idf1 = IDF(inputCol = 'c_vec1', outputCol = 'tf_idf1')\n",
    "\n",
    "token2 = Tokenizer(inputCol = 'text', outputCol = 'token_text2')\n",
    "swremove2 = StopWordsRemover(inputCol = 'token_text2', outputCol = 'stop_tokens2')\n",
    "count_vec2 = CountVectorizer(inputCol = 'stop_tokens2', outputCol = 'c_vec2')\n",
    "idf2 = IDF(inputCol = 'c_vec2', outputCol = 'tf_idf2')\n",
    "\n",
    "token3 = Tokenizer(inputCol = 'subject', outputCol = 'token_text3')\n",
    "swremove3 = StopWordsRemover(inputCol = 'token_text3', outputCol = 'stop_tokens3')\n",
    "count_vec3 = CountVectorizer(inputCol = 'stop_tokens3', outputCol = 'c_vec3')\n",
    "idf3 = IDF(inputCol = 'c_vec3', outputCol = 'tf_idf3')\n",
    "\n",
    "idx = StringIndexer(inputCol = 'classification', outputCol = 'label')"
   ]
  },
  {
   "cell_type": "code",
   "execution_count": 22,
   "metadata": {},
   "outputs": [],
   "source": [
    "clean = VectorAssembler(inputCols = ['tf_idf1', 'tf_idf2', 'tf_idf3'], outputCol = 'features')"
   ]
  },
  {
   "cell_type": "code",
   "execution_count": 23,
   "metadata": {},
   "outputs": [],
   "source": [
    "pipe = Pipeline(stages = [idx, token1, swremove1, count_vec1, idf1, token2, swremove2, count_vec2, idf2, token3, swremove3, count_vec3, idf3, clean])"
   ]
  },
  {
   "cell_type": "code",
   "execution_count": 24,
   "metadata": {},
   "outputs": [],
   "source": [
    "cleaner = pipe.fit(df)"
   ]
  },
  {
   "cell_type": "code",
   "execution_count": 25,
   "metadata": {},
   "outputs": [],
   "source": [
    "final = cleaner.transform(df)"
   ]
  },
  {
   "cell_type": "code",
   "execution_count": 26,
   "metadata": {},
   "outputs": [],
   "source": [
    "final = final.select(['features', 'label'])"
   ]
  },
  {
   "cell_type": "code",
   "execution_count": 27,
   "metadata": {},
   "outputs": [
    {
     "name": "stdout",
     "output_type": "stream",
     "text": [
      "+--------------------+-----+\n",
      "|            features|label|\n",
      "+--------------------+-----+\n",
      "|(310220,[0,1,16,3...|  0.0|\n",
      "|(310220,[0,1,21,1...|  0.0|\n",
      "|(310220,[1,3,98,1...|  0.0|\n",
      "|(310220,[0,1,42,1...|  0.0|\n",
      "|(310220,[0,1,35,8...|  0.0|\n",
      "+--------------------+-----+\n",
      "only showing top 5 rows\n",
      "\n"
     ]
    }
   ],
   "source": [
    "final.show(5)"
   ]
  },
  {
   "cell_type": "code",
   "execution_count": 29,
   "metadata": {},
   "outputs": [],
   "source": [
    "train_data, test_data = final.randomSplit([0.75, 0.25])"
   ]
  },
  {
   "cell_type": "code",
   "execution_count": null,
   "metadata": {},
   "outputs": [],
   "source": []
  }
 ],
 "metadata": {
  "kernelspec": {
   "display_name": "Python 3",
   "language": "python",
   "name": "python3"
  },
  "language_info": {
   "codemirror_mode": {
    "name": "ipython",
    "version": 3
   },
   "file_extension": ".py",
   "mimetype": "text/x-python",
   "name": "python",
   "nbconvert_exporter": "python",
   "pygments_lexer": "ipython3",
   "version": "3.6.8"
  }
 },
 "nbformat": 4,
 "nbformat_minor": 4
}
